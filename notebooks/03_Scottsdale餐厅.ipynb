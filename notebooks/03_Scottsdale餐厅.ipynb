{
 "cells": [
  {
   "cell_type": "code",
   "execution_count": null,
   "metadata": {
    "colab": {},
    "colab_type": "code",
    "id": "hinonm4y3-5Y"
   },
   "outputs": [],
   "source": [
    "import pandas as pd\n",
    "from six.moves import cPickle\n",
    "import numpy as np\n",
    "from scipy.sparse import csr_matrix, lil_matrix\n",
    "from sklearn.decomposition import TruncatedSVD\n",
    "from scipy.sparse.linalg import svds\n",
    "from sklearn.metrics import mean_squared_error"
   ]
  },
  {
   "cell_type": "code",
   "execution_count": null,
   "metadata": {},
   "outputs": [],
   "source": [
    "# 设置主题色和ggplot模版\n",
    "import matplotlib.pyplot as plt\n",
    "from matplotlib.font_manager import FontProperties\n",
    "PingFang = FontProperties(fname='../assets/PingFang.ttc')\n",
    "plt.style.use('ggplot')\n",
    "plt_color = [\"#ACA7CB\", \"#474554\"]"
   ]
  },
  {
   "cell_type": "code",
   "execution_count": null,
   "metadata": {},
   "outputs": [],
   "source": [
    "path = '../data/Yelp_final.csv'\n",
    "\n",
    "yelp = pd.read_csv(path, encoding='utf-8')"
   ]
  },
  {
   "cell_type": "code",
   "execution_count": null,
   "metadata": {
    "colab": {
     "base_uri": "https://localhost:8080/",
     "height": 34
    },
    "colab_type": "code",
    "id": "Ogqj6WSsWKSe",
    "outputId": "6343f98c-4fec-4f14-ec62-f6a85d07a950"
   },
   "outputs": [],
   "source": [
    "# 过滤出位于Scottsdale的餐厅评论\n",
    "scottsdale_restaurant_reviews = yelp[(yelp.city == 'Scottsdale') &\n",
    "                                     (yelp.categories.str.contains('.Restaurant.', case=False))]\n",
    "# 打印Scottsdale餐厅评论的行列数\n",
    "print(\"Scottsdale餐厅评论的行列数:\", scottsdale_restaurant_reviews.shape)"
   ]
  },
  {
   "cell_type": "code",
   "execution_count": null,
   "metadata": {
    "colab": {},
    "colab_type": "code",
    "id": "bnlAauTjWRbQ"
   },
   "outputs": [],
   "source": [
    "from src.preprocess import get_clean_df, get_sparsity, get_sparse_matrix"
   ]
  },
  {
   "cell_type": "code",
   "execution_count": null,
   "metadata": {
    "colab": {
     "base_uri": "https://localhost:8080/",
     "height": 238
    },
    "colab_type": "code",
    "id": "aI6i1hIBWn2n",
    "outputId": "f2461265-a120-4ca2-b2a6-a403254de5ca"
   },
   "outputs": [],
   "source": [
    "# 获取每位用户至少有10条评论的Scottsdale餐厅数据\n",
    "scottsdale_reviews_min_10 = get_clean_df(scottsdale_restaurant_reviews,\n",
    "                                         min_user_review=10, cols=['user_id', 'business_id', 'stars'])\n",
    "print(\"Scottsdale餐厅评论数:\", scottsdale_reviews_min_10.shape[0])"
   ]
  },
  {
   "cell_type": "code",
   "execution_count": null,
   "metadata": {
    "colab": {
     "base_uri": "https://localhost:8080/",
     "height": 85
    },
    "colab_type": "code",
    "id": "mpMaqhxLWruc",
    "outputId": "5403d83f-f477-42c2-9c5f-ea6a5e2620eb"
   },
   "outputs": [],
   "source": [
    "# 打印Scottsdale餐厅的唯一餐厅数和唯一用户数\n",
    "print(\"Scottsdale唯一餐厅数 =\", len(scottsdale_reviews_min_10.business_id.unique()))\n",
    "print(\"Scottsdale唯一用户数 =\", len(scottsdale_reviews_min_10.user_id.unique()))"
   ]
  },
  {
   "cell_type": "code",
   "execution_count": null,
   "metadata": {
    "colab": {
     "base_uri": "https://localhost:8080/",
     "height": 139
    },
    "colab_type": "code",
    "id": "ohdEAffMWuOw",
    "outputId": "829f499f-877f-408a-d461-357331e316c2"
   },
   "outputs": [],
   "source": [
    "# 获取Scottsdale餐厅的稀疏矩阵\n",
    "scottsdale_ratings_matrix = get_sparse_matrix(scottsdale_reviews_min_10)\n",
    "print(\"Scottsdale餐厅评分矩阵的形状 =\", scottsdale_ratings_matrix.shape)"
   ]
  },
  {
   "cell_type": "code",
   "execution_count": null,
   "metadata": {
    "colab": {
     "base_uri": "https://localhost:8080/",
     "height": 51
    },
    "colab_type": "code",
    "id": "LJiEKSa5WyM7",
    "outputId": "79c02035-f3b8-4adc-e498-6955ee1480a6"
   },
   "outputs": [],
   "source": [
    "# 计算Scottsdale餐厅评分矩阵的稀疏度\n",
    "sparsity_scottsdale = 1 - scottsdale_ratings_matrix.nnz / \\\n",
    "    (scottsdale_ratings_matrix.shape[0] * scottsdale_ratings_matrix.shape[1])\n",
    "print(\"Scottsdale餐厅评分矩阵的稀疏度 =\", sparsity_scottsdale)"
   ]
  },
  {
   "cell_type": "code",
   "execution_count": null,
   "metadata": {
    "colab": {},
    "colab_type": "code",
    "id": "nqPX-Yq1W06D"
   },
   "outputs": [],
   "source": [
    "from src.feature_extraction import train_val_test_split"
   ]
  },
  {
   "cell_type": "code",
   "execution_count": null,
   "metadata": {
    "colab": {
     "base_uri": "https://localhost:8080/",
     "height": 51
    },
    "colab_type": "code",
    "id": "GlteR7WvYkI6",
    "outputId": "b9deaf89-3312-47e1-a4b3-13f5790bdee8"
   },
   "outputs": [],
   "source": [
    "# 处理Scottsdale餐厅评分矩阵\n",
    "scottsdale_train_matrix, scottsdale_val_matrix, scottsdale_test_matrix = train_val_test_split(\n",
    "    scottsdale_ratings_matrix)\n",
    "print(\"Scottsdale 训练集形状:\", scottsdale_train_matrix.shape)\n",
    "print(\"Scottsdale 验证集形状:\", scottsdale_val_matrix.shape)\n",
    "print(\"Scottsdale 测试集形状:\", scottsdale_test_matrix.shape)"
   ]
  },
  {
   "cell_type": "markdown",
   "metadata": {
    "colab_type": "text",
    "id": "4Jdbx5KCY2KZ"
   },
   "source": [
    "# 4. 模型构建:"
   ]
  },
  {
   "cell_type": "markdown",
   "metadata": {
    "colab_type": "text",
    "id": "_3sj3lM6Y6dZ"
   },
   "source": [
    "## 4.1 奇异值分解SVD"
   ]
  },
  {
   "cell_type": "code",
   "execution_count": null,
   "metadata": {},
   "outputs": [],
   "source": [
    "# 计算斯科茨代尔训练矩阵的奇异值分解\n",
    "U_sct_res, S_sct_res, Vt_sct_res = np.linalg.svd(\n",
    "    scottsdale_train_matrix.todense())\n",
    "\n",
    "# 打印最小和最大的奇异值\n",
    "print(\"最小奇异值 = \", min(S_sct_res))\n",
    "print(\"最大的奇异值 = \", max(S_sct_res))\n",
    "\n",
    "# 将奇异值对角化\n",
    "S_sct_res_dia = np.diag(S_sct_res)"
   ]
  },
  {
   "cell_type": "code",
   "execution_count": null,
   "metadata": {},
   "outputs": [],
   "source": [
    "# 绘制前20个奇异值的Elbow图\n",
    "plt.plot(S_sct_res[:20], '-', linewidth=2,\n",
    "         color=plt_color[1], label='数据点')\n",
    "\n",
    "plt.xticks(np.arange(0, len(S_sct_res[:20]), 1), fontproperties=PingFang)\n",
    "plt.xlabel('主成分', fontproperties=PingFang, fontsize=12)\n",
    "plt.ylim(40, 180)\n",
    "plt.grid(True, linestyle='--', linewidth=0.5)\n",
    "plt.legend(prop=PingFang)\n",
    "\n",
    "\n",
    "plt.tight_layout()\n",
    "plt.savefig('../images/Scottsdale/01_SVD奇异值分布_前20个主成分.png', dpi=600)\n",
    "plt.ylabel('奇异值', fontproperties=PingFang, fontsize=12)\n",
    "plt.title('Scottsdale餐厅SVD奇异值分布（前20个主成分）',\n",
    "          fontproperties=PingFang, fontsize=14)\n",
    "plt.show()"
   ]
  },
  {
   "cell_type": "code",
   "execution_count": null,
   "metadata": {},
   "outputs": [],
   "source": [
    "from src.model import compute_approximation_error"
   ]
  },
  {
   "cell_type": "code",
   "execution_count": null,
   "metadata": {
    "colab": {
     "base_uri": "https://localhost:8080/",
     "height": 282
    },
    "colab_type": "code",
    "id": "ygoPhoUlaHRL",
    "outputId": "80e3d518-6bb9-446f-de19-39aaf5a48103"
   },
   "outputs": [],
   "source": [
    "# 设置奇异值数量的范围\n",
    "num_singular_values_range = np.linspace(2, 40, 20, dtype=int)\n",
    "errors_svd_val_sct = {}\n",
    "errors_svd_train_sct = {}\n",
    "\n",
    "# 计算Scottsdale餐厅数据在不同奇异值数量下的训练误差和验证误差\n",
    "for num_singular_values in num_singular_values_range:\n",
    "    errors_svd_val_sct[num_singular_values] = compute_approximation_error(\n",
    "        num_singular_values, scottsdale_val_matrix.todense(), U_sct_res, S_sct_res_dia, Vt_sct_res)\n",
    "    errors_svd_train_sct[num_singular_values] = compute_approximation_error(\n",
    "        num_singular_values, scottsdale_train_matrix.todense(), U_sct_res, S_sct_res_dia, Vt_sct_res)\n",
    "\n",
    "# 绘制训练误差和验证误差图\n",
    "plt.plot(errors_svd_val_sct.keys(), errors_svd_val_sct.values(),\n",
    "         label='验证集', color=plt_color[0])\n",
    "plt.plot(errors_svd_train_sct.keys(), errors_svd_train_sct.values(),\n",
    "         label='训练集', color=plt_color[1])\n",
    "\n",
    "plt.xlabel('奇异值数量 k', fontproperties=PingFang)\n",
    "plt.ylabel('均方误差 MSE', fontproperties=PingFang)\n",
    "plt.legend(prop=PingFang)\n",
    "\n",
    "plt.tight_layout()\n",
    "plt.savefig('../images/Scottsdale/02_不同奇异值数量下验证集误差.png', dpi=600)\n",
    "plt.title('Scottsdale餐厅数据不同奇异值数量下的训练和验证误差',\n",
    "          fontproperties=PingFang, fontsize=14)\n",
    "\n",
    "plt.show()"
   ]
  },
  {
   "cell_type": "markdown",
   "metadata": {
    "colab_type": "text",
    "id": "-8lLaWi4a4kW"
   },
   "source": [
    "However the Validation Error increases after each stages in this"
   ]
  },
  {
   "cell_type": "code",
   "execution_count": null,
   "metadata": {
    "colab": {
     "base_uri": "https://localhost:8080/",
     "height": 282
    },
    "colab_type": "code",
    "id": "S5owm9-OafQA",
    "outputId": "30e06b06-288f-4496-f1ee-930d86f29594"
   },
   "outputs": [],
   "source": [
    "# 单独绘制验证误差图\n",
    "plt.plot(errors_svd_val_sct.keys(), errors_svd_val_sct.values(),\n",
    "         label='验证集', color=plt_color[0])\n",
    "\n",
    "plt.xlabel('奇异值数量 k', fontproperties=PingFang)\n",
    "plt.ylabel('均方误差 MSE', fontproperties=PingFang)\n",
    "\n",
    "plt.legend(prop=PingFang)\n",
    "\n",
    "plt.tight_layout()\n",
    "plt.savefig('../images/Scottsdale/03_不同奇异值数量下验证集误差.png', dpi=600)\n",
    "plt.title('Scottsdale餐厅数据不同奇异值数量下的验证误差', fontproperties=PingFang, fontsize=14)\n",
    "plt.show()"
   ]
  },
  {
   "cell_type": "code",
   "execution_count": null,
   "metadata": {},
   "outputs": [],
   "source": [
    "# 使用SVD结果中的前两个主成分绘制散点图\n",
    "plt.scatter(np.ravel(U_sct_res[:, 0]), np.ravel(\n",
    "    U_sct_res[:, 1]), label='观察点', color=plt_color[1], alpha=0.6)\n",
    "\n",
    "plt.xlabel('主成分 1', fontproperties=PingFang)\n",
    "plt.ylabel('主成分 2', fontproperties=PingFang)\n",
    "\n",
    "plt.legend(prop=PingFang)\n",
    "plt.tight_layout()\n",
    "plt.savefig('../images/Scottsdale/04_前两个主成分散点图.png', dpi=600)\n",
    "\n",
    "# 设置标题\n",
    "plt.title('Scottsdale餐厅数据的前两个主成分散点图', fontproperties=PingFang, fontsize=14)\n",
    "# 显示图像\n",
    "plt.show()"
   ]
  },
  {
   "cell_type": "code",
   "execution_count": null,
   "metadata": {
    "colab": {
     "base_uri": "https://localhost:8080/",
     "height": 34
    },
    "colab_type": "code",
    "id": "IoGmn7i6axYt",
    "outputId": "151f8170-27d5-4944-d4f7-431cc7aa14c1"
   },
   "outputs": [],
   "source": [
    "# 计算在使用前16个奇异值进行近似重构时，Scottsdale餐厅数据在验证集上的最佳均方误差（MSE）\n",
    "best_val_mse_svd_sct = compute_approximation_error(\n",
    "    16, scottsdale_val_matrix.todense(), U_sct_res, S_sct_res_dia, Vt_sct_res)\n",
    "\n",
    "print('Scottsdale餐厅使用SVD的最佳验证集均方误差 (MSE)= ', best_val_mse_svd_sct)"
   ]
  },
  {
   "cell_type": "code",
   "execution_count": null,
   "metadata": {
    "colab": {},
    "colab_type": "code",
    "id": "Y1sRmy4Zc4Xu"
   },
   "outputs": [],
   "source": [
    "# 训练集非零元素的索引\n",
    "train_nonzero_indices_sct = scottsdale_train_matrix.nonzero()\n",
    "\n",
    "# 验证集非零元素的索引\n",
    "val_nonzero_indices_sct = scottsdale_val_matrix.nonzero()\n",
    "\n",
    "# 测试集非零元素的索引\n",
    "test_nonzero_indices_sct = scottsdale_test_matrix.nonzero()"
   ]
  },
  {
   "cell_type": "code",
   "execution_count": null,
   "metadata": {
    "colab": {},
    "colab_type": "code",
    "id": "UFc9KhmmtbLq"
   },
   "outputs": [],
   "source": [
    "# 使用前15个奇异值进行SVD重构，计算重构后的矩阵\n",
    "reconstructed_matrix_svd_sct = np.dot(U_sct_res[:, :15], np.dot(\n",
    "    S_sct_res_dia[:15, :15], Vt_sct_res[:15, :]))\n",
    "\n",
    "# 获取训练集、验证集和测试集在重构矩阵中的预测值\n",
    "train_predictions_svd_sct = np.ravel(\n",
    "    reconstructed_matrix_svd_sct[train_nonzero_indices_sct])\n",
    "val_predictions_svd_sct = np.ravel(\n",
    "    reconstructed_matrix_svd_sct[val_nonzero_indices_sct])\n",
    "test_predictions_svd_sct = np.ravel(\n",
    "    reconstructed_matrix_svd_sct[test_nonzero_indices_sct])"
   ]
  },
  {
   "cell_type": "markdown",
   "metadata": {
    "colab_type": "text",
    "id": "HY50MfJzdXNB"
   },
   "source": [
    "## SVD with bias correction"
   ]
  },
  {
   "cell_type": "code",
   "execution_count": null,
   "metadata": {
    "colab": {},
    "colab_type": "code",
    "id": "kpnWjwIffQQZ"
   },
   "outputs": [],
   "source": [
    "from src.model import compute_global_user_item_bias"
   ]
  },
  {
   "cell_type": "code",
   "execution_count": null,
   "metadata": {
    "colab": {
     "base_uri": "https://localhost:8080/",
     "height": 51
    },
    "colab_type": "code",
    "id": "O-k4sOoMfksf",
    "outputId": "1a25f6f9-f589-4c4a-e1ff-080b1315f5d9"
   },
   "outputs": [],
   "source": [
    "# 对Scottsdale餐厅评分矩阵计算全局用户和商家偏差\n",
    "user_bias_ur_sct, res_bias_ur_sct, train_ur_sct = compute_global_user_item_bias(\n",
    "    scottsdale_train_matrix)"
   ]
  },
  {
   "cell_type": "code",
   "execution_count": null,
   "metadata": {
    "colab": {
     "base_uri": "https://localhost:8080/",
     "height": 51
    },
    "colab_type": "code",
    "id": "5FQ4QDv4ftUW",
    "outputId": "d2e2ed37-6419-4bc8-9a2d-6b70348cf67c"
   },
   "outputs": [],
   "source": [
    "# 对去除偏差后的训练矩阵进行SVD分解\n",
    "U_sct_res_wo_bias_ur, S_sct_res_wo_bias_ur, Vt_sct_res_wo_bias_ur = np.linalg.svd(\n",
    "    train_ur_sct)\n",
    "print(\"最小的奇异值 = \", min(S_sct_res_wo_bias_ur))\n",
    "print(\"最大的奇异值 = \", max(S_sct_res_wo_bias_ur))\n",
    "S_sct_res_dia_wo_bias_ur = np.diag(S_sct_res_wo_bias_ur)"
   ]
  },
  {
   "cell_type": "code",
   "execution_count": null,
   "metadata": {},
   "outputs": [],
   "source": [
    "# 绘制前1000个奇异值的Elbow图\n",
    "fig = plt.figure(figsize=(8, 5))\n",
    "plt.semilogy(S_sct_res_wo_bias_ur[:1000], '-', linewidth=1, color=plt_color[1])\n",
    "plt.xlim(-20, 1020)\n",
    "plt.grid(True, linestyle='--', linewidth=0.5)\n",
    "plt.xlabel('主成分', fontproperties=PingFang)\n",
    "plt.ylabel('奇异值', fontproperties=PingFang)\n",
    "plt.tight_layout()\n",
    "plt.savefig('../images/Scottsdale/05_去除偏差后的SVD_奇异值分布（前1000个）.png', dpi=600)\n",
    "plt.title('Scottsdale去除偏差后的SVD奇异值分布（前1000个）', fontproperties=PingFang)\n",
    "plt.show()"
   ]
  },
  {
   "cell_type": "code",
   "execution_count": null,
   "metadata": {
    "colab": {
     "base_uri": "https://localhost:8080/",
     "height": 296
    },
    "colab_type": "code",
    "id": "G97-rsKuf3tn",
    "outputId": "7041c93b-cd9c-4ae9-d87a-57b5e546c28d"
   },
   "outputs": [],
   "source": [
    "# 设置主成分数量的范围\n",
    "num_components_wo_bias = np.linspace(2, 40, 20, dtype=int)\n",
    "errors_svd_wo_bias_ur_sct = {}\n",
    "\n",
    "# 去除偏差后的验证矩阵\n",
    "sm_u_10_sct_res_val_wo_bias_ur = scottsdale_val_matrix.todense() - \\\n",
    "    user_bias_ur_sct - res_bias_ur_sct\n",
    "\n",
    "# 计算不同主成分数量下的重构误差\n",
    "for i in num_components_wo_bias:\n",
    "    sm_u_10_sct_res_val_wo_bias_ur_rec = np.dot(U_sct_res_wo_bias_ur[:, :i], np.dot(\n",
    "        S_sct_res_dia_wo_bias_ur[:i, :i], Vt_sct_res_wo_bias_ur[:i, :]))\n",
    "    idx_wo_bias_ur_sct = np.where(scottsdale_val_matrix.todense() > 0)\n",
    "    diff_wo_bias_ur_sct = sm_u_10_sct_res_val_wo_bias_ur[idx_wo_bias_ur_sct] - \\\n",
    "        sm_u_10_sct_res_val_wo_bias_ur_rec[idx_wo_bias_ur_sct]\n",
    "    errors_svd_wo_bias_ur_sct[i] = np.linalg.norm(\n",
    "        diff_wo_bias_ur_sct) ** 2 / diff_wo_bias_ur_sct.shape[1]\n",
    "\n",
    "# 绘制不同主成分数量下的重构误差\n",
    "plt.plot(errors_svd_wo_bias_ur_sct.keys(),\n",
    "         errors_svd_wo_bias_ur_sct.values(), label='验证集',\n",
    "         color=plt_color[0])\n",
    "plt.xlabel('主成分数量', fontproperties=PingFang)\n",
    "plt.ylabel('均方误差 MSE', fontproperties=PingFang)\n",
    "plt.legend(prop=PingFang, loc='upper right')\n",
    "plt.tight_layout()\n",
    "plt.savefig('../images/Scottsdale/06_去除偏差后的SVD_验证集重构误差.png', dpi=600)\n",
    "plt.title('Scottsdale餐厅去除偏差后的SVD重构误差', fontproperties=PingFang)\n",
    "plt.tight_layout()\n",
    "plt.show()"
   ]
  },
  {
   "cell_type": "markdown",
   "metadata": {
    "colab_type": "text",
    "id": "2KLkySrWhQ5S"
   },
   "source": [
    "## 4.2 修正偏差的余弦相似度"
   ]
  },
  {
   "cell_type": "code",
   "execution_count": null,
   "metadata": {
    "colab": {},
    "colab_type": "code",
    "id": "wufOv_QGgVSd"
   },
   "outputs": [],
   "source": [
    "from src.model import compute_similarity_matrix, predict_top_k, calculate_mse"
   ]
  },
  {
   "cell_type": "code",
   "execution_count": null,
   "metadata": {
    "colab": {
     "base_uri": "https://localhost:8080/",
     "height": 311
    },
    "colab_type": "code",
    "id": "WitlVyK8iHwv",
    "outputId": "452ed0be-d11a-4ed3-ba2f-4afb1aeb1a75"
   },
   "outputs": [],
   "source": [
    "# 初始化存储MSE的字典\n",
    "errors_cs_res_sct_val = {}\n",
    "errors_cs_res_sct_train = {}\n",
    "\n",
    "# 定义K值范围\n",
    "k_cs = np.arange(1, 40)\n",
    "\n",
    "# 计算Scottsdale餐厅数据的余弦相似性矩阵\n",
    "simi_sct_res = compute_similarity_matrix(scottsdale_train_matrix, axis='res')\n",
    "simi_sct_res = np.array(simi_sct_res)\n",
    "\n",
    "# 对每个K值，使用余弦相似性模型预测评分，并计算MSE\n",
    "for i in k_cs:\n",
    "    preds_cs_res_sct = predict_top_k(\n",
    "        np.array(scottsdale_train_matrix.todense()), simi_sct_res, kind='res', k=i)\n",
    "    error_cs_val = calculate_mse(\n",
    "        preds_cs_res_sct, np.array(scottsdale_val_matrix.todense()))\n",
    "    error_cs_train = calculate_mse(\n",
    "        preds_cs_res_sct, np.array(scottsdale_train_matrix.todense()))\n",
    "    errors_cs_res_sct_val[i] = error_cs_val\n",
    "    errors_cs_res_sct_train[i] = error_cs_train\n",
    "\n",
    "# 绘制不同K值对应的MSE曲线\n",
    "plt.plot(errors_cs_res_sct_val.keys(),\n",
    "         errors_cs_res_sct_val.values(), label='验证集', color=plt_color[0])\n",
    "plt.plot(errors_cs_res_sct_train.keys(),\n",
    "         errors_cs_res_sct_train.values(), label='训练集', color=plt_color[1])\n",
    "\n",
    "plt.xlabel('邻近用户或物品的数量 K', fontproperties=PingFang)\n",
    "plt.ylabel('均方误差 MSE', fontproperties=PingFang)\n",
    "plt.legend(prop=PingFang)\n",
    "plt.tight_layout()\n",
    "plt.savefig('../images/Scottsdale/09_余弦相似度模型_不同K值对评分预测MSE的影响.png', dpi=600)\n",
    "plt.title('余弦相似度下不同K值对Scottsdale餐厅评分预测MSE的影响', fontproperties=PingFang)\n",
    "\n",
    "plt.show()"
   ]
  },
  {
   "cell_type": "code",
   "execution_count": null,
   "metadata": {
    "colab": {
     "base_uri": "https://localhost:8080/",
     "height": 34
    },
    "colab_type": "code",
    "id": "Fs7XF4tCinZG",
    "outputId": "50cce244-d9cb-49d9-9386-2ac5a4080167"
   },
   "outputs": [],
   "source": [
    "# 使用K=40的余弦相似性模型对Scottsdale训练集数据进行预测\n",
    "preds_cosine_sct = predict_top_k(\n",
    "    np.array(scottsdale_train_matrix.todense()), simi_sct_res, kind='res', k=40)\n",
    "\n",
    "# 计算预测结果与验证集数据的均方误差（MSE）\n",
    "Best_Val_MSE_Cosine_sct = calculate_mse(\n",
    "    preds_cosine_sct, np.array(scottsdale_val_matrix.todense()))\n",
    "\n",
    "# 打印最佳验证集均方误差\n",
    "print('Scottsdale餐厅余弦相似性模型在K=40时的最佳验证集MSE为 = ', Best_Val_MSE_Cosine_sct)"
   ]
  },
  {
   "cell_type": "code",
   "execution_count": null,
   "metadata": {
    "colab": {},
    "colab_type": "code",
    "id": "Jd1fLdQEuCzT"
   },
   "outputs": [],
   "source": [
    "train_preds_cosine_sct = preds_cosine_sct[train_nonzero_indices_sct]\n",
    "val_preds_cosine_sct = preds_cosine_sct[val_nonzero_indices_sct]\n",
    "test_preds_cosine_sct = preds_cosine_sct[test_nonzero_indices_sct]"
   ]
  },
  {
   "cell_type": "markdown",
   "metadata": {
    "colab_type": "text",
    "id": "Ognjbbasj-JJ"
   },
   "source": [
    "\n",
    "## 3.3 ALS:"
   ]
  },
  {
   "cell_type": "code",
   "execution_count": null,
   "metadata": {
    "colab": {},
    "colab_type": "code",
    "id": "ovJFfHfGi2P0"
   },
   "outputs": [],
   "source": [
    "from src.model import als"
   ]
  },
  {
   "cell_type": "code",
   "execution_count": null,
   "metadata": {
    "colab": {
     "base_uri": "https://localhost:8080/",
     "height": 366
    },
    "colab_type": "code",
    "id": "c8k9gJy_ktw2",
    "outputId": "ef2f35ee-c3b2-493e-bb4d-81c63b13a512"
   },
   "outputs": [],
   "source": [
    "# 定义特征数量的范围\n",
    "num_features = np.linspace(1, 20, 5, dtype=int)\n",
    "test_error_als_sct = []  # 存储验证集误差\n",
    "train_error_als_sct = []  # 存储训练集误差\n",
    "\n",
    "# 遍历不同的特征数量\n",
    "for i in num_features:\n",
    "    # 使用ALS算法预测Scottsdale餐厅的评分\n",
    "    preds_als = als(np.array(scottsdale_train_matrix.todense()),\n",
    "                    num_features=i, iterations=5)\n",
    "\n",
    "    # 计算验证集和训练集的均方误差\n",
    "    test_err = calculate_mse(preds_als, np.array(\n",
    "        scottsdale_val_matrix.todense()))\n",
    "    train_err = calculate_mse(preds_als, np.array(\n",
    "        scottsdale_train_matrix.todense()))\n",
    "\n",
    "    # 将计算结果添加到列表中\n",
    "    test_error_als_sct.append(test_err)\n",
    "    train_error_als_sct.append(train_err)\n",
    "\n",
    "# 创建图形对象并设置图形大小\n",
    "fig = plt.figure(figsize=(8, 5))\n",
    "\n",
    "# 绘制特征数量与均方误差的关系图\n",
    "plt.plot(num_features, test_error_als_sct,\n",
    "         label='验证集', color=plt_color[0])\n",
    "plt.plot(num_features, train_error_als_sct,\n",
    "         label='训练集', color=plt_color[1])\n",
    "\n",
    "# 设置图表的标题和坐标轴标签\n",
    "\n",
    "plt.xlabel('特征向量中的特征数量', fontproperties=PingFang)\n",
    "plt.ylabel('均方误差 MSE', fontproperties=PingFang)\n",
    "\n",
    "plt.legend(prop=PingFang)\n",
    "plt.tight_layout()\n",
    "plt.savefig('../images/Scottsdale/10_ALS_特征数量与均方误差的关系.png', dpi=600)\n",
    "plt.title('Scottsdale餐厅ALS特征数量与均方误差的关系', fontproperties=PingFang)\n",
    "plt.show()"
   ]
  },
  {
   "cell_type": "code",
   "execution_count": null,
   "metadata": {
    "colab": {
     "base_uri": "https://localhost:8080/",
     "height": 366
    },
    "colab_type": "code",
    "id": "hesQrrDulJS-",
    "outputId": "abc2de3e-1158-4371-c0e8-97fed030145b"
   },
   "outputs": [],
   "source": [
    "# 生成用户和物品的正则化参数，范围从10^-4到10^3，共7个点\n",
    "user_reg = np.logspace(-4, 3, 7)\n",
    "val_error_als = {}  # 初始化存储验证集误差的字典\n",
    "\n",
    "# 创建图形对象并设置图形大小\n",
    "fig = plt.figure(figsize=(8, 5))\n",
    "\n",
    "# 遍历正则化参数\n",
    "for i in user_reg:\n",
    "    # 对每个正则化参数进行模型训练，并计算验证集上的均方误差\n",
    "    preds_als = als(np.array(scottsdale_train_matrix.todense()), num_features=10, iterations=5,\n",
    "                    user_regularization=i, item_regularization=i)\n",
    "    val_err = calculate_mse(preds_als, np.array(\n",
    "        scottsdale_val_matrix.todense()))\n",
    "    val_error_als[i] = [val_err]  # 存储每个参数下的验证集MSE\n",
    "\n",
    "# 绘制正则化参数（对数尺度）与MSE的关系图\n",
    "plt.plot(np.log10(user_reg), [\n",
    "         errors[0] for errors in val_error_als.values()], linestyle='-',\n",
    "         label='验证集MSE', color=plt_color[0])\n",
    "\n",
    "\n",
    "plt.xlabel('正则化参数（对数尺度）', fontproperties=PingFang)\n",
    "plt.ylabel('均方误差 MSE', fontproperties=PingFang)\n",
    "plt.legend(prop=PingFang, loc=\"upper right\")\n",
    "plt.tight_layout()\n",
    "plt.savefig('../images/Scottsdale/11_ALS_正则化参数对MSE的影响.png', dpi=600)\n",
    "plt.title('Scottsdale餐厅正则化参数对MSE的影响', fontproperties=PingFang)\n",
    "plt.show()"
   ]
  },
  {
   "cell_type": "code",
   "execution_count": null,
   "metadata": {
    "colab": {
     "base_uri": "https://localhost:8080/",
     "height": 34
    },
    "colab_type": "code",
    "id": "wojhTBA7lRyM",
    "outputId": "49893023-35a8-47cb-fe75-4b9fd94df155"
   },
   "outputs": [],
   "source": [
    "# 使用ALS算法预测Scottsdale餐厅的评分，设置特征数量为10，迭代次数为5\n",
    "# 并设置用户和物品的正则化参数均为0.01\n",
    "preds_als_sct = als(np.array(scottsdale_train_matrix.todense()), num_features=10,\n",
    "                    iterations=5, user_regularization=0.01, item_regularization=0.01)\n",
    "\n",
    "# 使用calculate_mse函数计算验证集的均方误差\n",
    "Best_Val_MSE_als_sct = calculate_mse(\n",
    "    preds_als_sct, np.array(scottsdale_val_matrix.todense()))\n",
    "\n",
    "# 打印验证集的最佳均方误差\n",
    "print('Scottsdale餐厅ALS模型的最佳验证均方误差为：', Best_Val_MSE_als_sct)"
   ]
  },
  {
   "cell_type": "code",
   "execution_count": null,
   "metadata": {
    "colab": {},
    "colab_type": "code",
    "id": "N3QNvf0llhgF"
   },
   "outputs": [],
   "source": [
    "train_preds_als_sct = preds_als_sct[train_nonzero_indices_sct]\n",
    "val_preds_als_sct = preds_als_sct[val_nonzero_indices_sct]\n",
    "test_preds_als_sct = preds_als_sct[test_nonzero_indices_sct]"
   ]
  },
  {
   "cell_type": "markdown",
   "metadata": {
    "colab_type": "text",
    "id": "ZgK6I21ll8bH"
   },
   "source": [
    "## 3.4 带偏差修正的随机梯度下降"
   ]
  },
  {
   "cell_type": "code",
   "execution_count": null,
   "metadata": {},
   "outputs": [],
   "source": [
    "from src.model import sgd_with_bias_correction"
   ]
  },
  {
   "cell_type": "code",
   "execution_count": null,
   "metadata": {
    "colab": {
     "base_uri": "https://localhost:8080/",
     "height": 434
    },
    "colab_type": "code",
    "id": "zCt_va0lmwd5",
    "outputId": "43d787a4-f3f1-4a32-9ca0-22418a16625f"
   },
   "outputs": [],
   "source": [
    "# 定义迭代次数的范围\n",
    "iters = np.arange(10, 50, 10)\n",
    "err_sgd_test_sct = []  # 存储验证集的误差\n",
    "err_sgd_train_sct = []  # 存储训练集的误差\n",
    "\n",
    "# 遍历不同的迭代次数\n",
    "for i in iters:\n",
    "    print('当前迭代次数 = ', i)\n",
    "\n",
    "    # 使用带偏差校正的SGD训练模型\n",
    "    preds_sgd = sgd_with_bias_correction(\n",
    "        np.array(scottsdale_train_matrix.todense()), num_features=10, iterations=i)\n",
    "\n",
    "    # 计算验证集和训练集的均方误差\n",
    "    err_test = calculate_mse(preds_sgd[0], np.array(\n",
    "        scottsdale_val_matrix.todense()))\n",
    "    err_train = calculate_mse(preds_sgd[0], np.array(\n",
    "        scottsdale_train_matrix.todense()))\n",
    "\n",
    "    # 将结果添加到列表中\n",
    "    err_sgd_test_sct.append(err_test)\n",
    "    err_sgd_train_sct.append(err_train)\n",
    "\n",
    "# 绘制迭代次数与MSE的关系图\n",
    "plt.plot(iters, err_sgd_test_sct, label='验证集', color=plt_color[0])\n",
    "plt.plot(iters, err_sgd_train_sct, label='训练集', color=plt_color[1])\n",
    "\n",
    "\n",
    "plt.xlabel('迭代次数 iteration', fontproperties=PingFang)\n",
    "plt.ylabel('均方误差 MSE', fontproperties=PingFang)\n",
    "\n",
    "plt.legend(prop=PingFang)\n",
    "plt.tight_layout()\n",
    "plt.savefig('../images/Scottsdale/12_带偏差修正的SGD_MSE与迭代次数的关系.png', dpi=600)\n",
    "plt.title('Scottsdale餐厅中带偏差修正的SGD模型中迭代次数对MSE的影响', fontproperties=PingFang)\n",
    "plt.show()"
   ]
  },
  {
   "cell_type": "markdown",
   "metadata": {
    "colab_type": "text",
    "id": "IyRWQx28oNkp"
   },
   "source": [
    "**Optimal Number of Iterations = 30**"
   ]
  },
  {
   "cell_type": "code",
   "execution_count": null,
   "metadata": {
    "colab": {
     "base_uri": "https://localhost:8080/",
     "height": 536
    },
    "colab_type": "code",
    "id": "E_eIuGxEndLY",
    "outputId": "3a9ee8c2-474b-4903-d944-c88c61455e98"
   },
   "outputs": [],
   "source": [
    "# 定义特征数量的范围\n",
    "k = np.linspace(2, 15, 10, dtype=int)\n",
    "err_sgd_val_sct = []  # 存储验证集的误差\n",
    "err_sgd_train_sct = []  # 存储训练集的误差\n",
    "\n",
    "# 遍历不同的特征数量\n",
    "for i in k:\n",
    "    print('当前特征数量 k=', i)\n",
    "\n",
    "    # 使用带偏差校正的SGD进行模型训练\n",
    "    preds_sgd = sgd_with_bias_correction(\n",
    "        np.array(scottsdale_train_matrix.todense()), num_features=i, iterations=30)\n",
    "\n",
    "    # 计算验证集和训练集的均方误差\n",
    "    err_val = calculate_mse(preds_sgd[0], np.array(\n",
    "        scottsdale_val_matrix.todense()))\n",
    "    err_train = calculate_mse(preds_sgd[0], np.array(\n",
    "        scottsdale_train_matrix.todense()))\n",
    "\n",
    "    # 将结果添加到列表中\n",
    "    err_sgd_val_sct.append(err_val)\n",
    "    err_sgd_train_sct.append(err_train)\n",
    "\n",
    "# 绘制特征数量与MSE的关系图\n",
    "plt.plot(k, err_sgd_val_sct, label='验证集', color=plt_color[0])\n",
    "plt.plot(k, err_sgd_train_sct, label='训练集', color=plt_color[1])\n",
    "\n",
    "\n",
    "plt.xlabel('特征数量 k', fontproperties=PingFang)\n",
    "plt.ylabel('均方误差 MSE', fontproperties=PingFang)\n",
    "\n",
    "plt.legend(prop=PingFang)\n",
    "plt.savefig('../images/Scottsdale/14_带偏差修正的SGD_特征数量与MSE关系.png', dpi=600)\n",
    "plt.title('Scottsdale餐厅中SGD模型的特征数量对MSE的影响', fontproperties=PingFang)\n",
    "plt.show()"
   ]
  },
  {
   "cell_type": "markdown",
   "metadata": {
    "colab_type": "text",
    "id": "fXIHAfZIn3vE"
   },
   "source": [
    "**Optimal k value = 2**"
   ]
  },
  {
   "cell_type": "code",
   "execution_count": null,
   "metadata": {
    "colab": {},
    "colab_type": "code",
    "id": "6LQKAAxkn4dA"
   },
   "outputs": [],
   "source": [
    "# 使用带偏己校正的SGD算法训练模型，并获取预测结果、误差数组、用户向量和资源向量\n",
    "# 设置特征数量为2，迭代次数为30\n",
    "predictions_sgd_sct, error_array_sgd_sct, user_vec_sgd_sct, res_vec_sgd_sct = sgd_with_bias_correction(\n",
    "    np.array(scottsdale_train_matrix.todense()), num_features=2, iterations=30)"
   ]
  },
  {
   "cell_type": "code",
   "execution_count": null,
   "metadata": {
    "colab": {
     "base_uri": "https://localhost:8080/",
     "height": 34
    },
    "colab_type": "code",
    "id": "eERyUmcjn7tT",
    "outputId": "9eb5a615-8df8-4684-f08a-defa8a2824b6"
   },
   "outputs": [],
   "source": [
    "# 再次使用SGD算法进行训练，此次仅获取预测结果\n",
    "preds_sgd_sct = sgd_with_bias_correction(\n",
    "    np.array(scottsdale_train_matrix.todense()), num_features=2, iterations=30)\n",
    "\n",
    "# 计算预测结果的均方误差（MSE）并打印\n",
    "Best_Val_MSE_sgd_sct = calculate_mse(\n",
    "    preds_sgd_sct[0], np.array(scottsdale_val_matrix.todense()))\n",
    "print('Scottsdale餐厅SGD模型的最佳验证均方误差为：', Best_Val_MSE_sgd_sct)"
   ]
  },
  {
   "cell_type": "code",
   "execution_count": null,
   "metadata": {
    "colab": {},
    "colab_type": "code",
    "id": "mOvjBSMfoijq"
   },
   "outputs": [],
   "source": [
    "# 使用预测结果对训练集、验证集和测试集的非零索引位置进行评分预测\n",
    "train_preds_sgd_sct = preds_sgd_sct[0][train_nonzero_indices_sct]\n",
    "val_preds_sgd_sct = preds_sgd_sct[0][val_nonzero_indices_sct]\n",
    "test_preds_sgd_sct = preds_sgd_sct[0][test_nonzero_indices_sct]"
   ]
  },
  {
   "cell_type": "markdown",
   "metadata": {
    "colab_type": "text",
    "id": "-Jvs0vU5ove_"
   },
   "source": [
    "## 将矩阵补全问题转换为回归问题"
   ]
  },
  {
   "cell_type": "code",
   "execution_count": null,
   "metadata": {
    "colab": {},
    "colab_type": "code",
    "id": "fsf4EgRwos-b"
   },
   "outputs": [],
   "source": [
    "import pickle\n",
    "from src.model import concatenate_user_item_vectors"
   ]
  },
  {
   "cell_type": "code",
   "execution_count": null,
   "metadata": {
    "colab": {},
    "colab_type": "code",
    "id": "vfhqHoAerF7S"
   },
   "outputs": [],
   "source": [
    "train_sct = concatenate_user_item_vectors(\n",
    "    user_vec_sgd_sct, res_vec_sgd_sct, scottsdale_train_matrix)\n",
    "val_sct = concatenate_user_item_vectors(\n",
    "    user_vec_sgd_sct, res_vec_sgd_sct, scottsdale_val_matrix)\n",
    "test_sct = concatenate_user_item_vectors(\n",
    "    user_vec_sgd_sct, res_vec_sgd_sct, scottsdale_test_matrix)\n",
    "train_mat_sct = np.array(train_sct)\n",
    "val_mat_sct = np.array(val_sct)\n",
    "test_mat_sct = np.array(test_sct)"
   ]
  },
  {
   "cell_type": "code",
   "execution_count": null,
   "metadata": {
    "colab": {},
    "colab_type": "code",
    "id": "LLIZKos5tCvd"
   },
   "outputs": [],
   "source": [
    "x_train, y_train = train_mat_sct[:, :-1], np.ravel(train_mat_sct[:, -1])\n",
    "x_val, y_val = val_mat_sct[:, :-1], np.ravel(val_mat_sct[:, -1])"
   ]
  },
  {
   "cell_type": "code",
   "execution_count": null,
   "metadata": {},
   "outputs": [],
   "source": [
    "from sklearn.ensemble import RandomForestRegressor\n",
    "rf = RandomForestRegressor(max_depth=5)"
   ]
  },
  {
   "cell_type": "code",
   "execution_count": null,
   "metadata": {
    "colab": {
     "base_uri": "https://localhost:8080/",
     "height": 34
    },
    "colab_type": "code",
    "id": "80f9vHgTqN1k",
    "outputId": "7a50f769-a218-43fa-e7f0-1e0c8d6a4f57"
   },
   "outputs": [],
   "source": [
    "rf_sct = RandomForestRegressor(max_depth=5)\n",
    "rf.fit(train_mat_sct[:, :4], train_mat_sct[:, 4])\n",
    "preds_rf_sct = rf.predict(val_mat_sct[:, :4]).reshape(-1, 1)\n",
    "MSE_rf_sct = calculate_mse(preds_rf_sct, val_mat_sct[:, 4])\n",
    "print('MSE for Random Forest Classifier for Restaurants in Scottsdale = ', MSE_rf_sct)"
   ]
  },
  {
   "cell_type": "code",
   "execution_count": null,
   "metadata": {
    "colab": {},
    "colab_type": "code",
    "id": "rB5ttEhxqu1K"
   },
   "outputs": [],
   "source": [
    "train_preds_rf_sct = rf.predict(train_mat_sct[:, :4])\n",
    "val_preds_rf_sct = rf.predict(val_mat_sct[:, :4])\n",
    "test_preds_rf_sct = rf.predict(test_mat_sct[:, :4])"
   ]
  },
  {
   "cell_type": "markdown",
   "metadata": {
    "colab_type": "text",
    "id": "V_LjwaiQrk0y"
   },
   "source": [
    "## Ensemble of all the Predictors (SVD, Cosine Model, ALS, SGD, RF)"
   ]
  },
  {
   "cell_type": "code",
   "execution_count": null,
   "metadata": {
    "colab": {},
    "colab_type": "code",
    "id": "3B6hDK-Cro2b"
   },
   "outputs": [],
   "source": [
    "from src.evaluation import build_ensemble_dataframe"
   ]
  },
  {
   "cell_type": "code",
   "execution_count": null,
   "metadata": {
    "colab": {},
    "colab_type": "code",
    "id": "e-Hse7lBr-Sg"
   },
   "outputs": [],
   "source": [
    "ensemble_training_sct_df = build_ensemble_dataframe(\n",
    "    train_predictions_svd_sct, train_preds_cosine_sct, train_preds_als_sct, train_preds_sgd_sct, train_preds_rf_sct)\n",
    "ensemble_validation_sct_df = build_ensemble_dataframe(\n",
    "    val_predictions_svd_sct, val_preds_cosine_sct, val_preds_als_sct, val_preds_sgd_sct, val_preds_rf_sct)\n",
    "ensemble_testing_sct_df = build_ensemble_dataframe(\n",
    "    test_predictions_svd_sct, test_preds_cosine_sct, test_preds_als_sct, test_preds_sgd_sct, test_preds_rf_sct)"
   ]
  },
  {
   "cell_type": "code",
   "execution_count": null,
   "metadata": {
    "colab": {},
    "colab_type": "code",
    "id": "0UlExdOVsi7g"
   },
   "outputs": [],
   "source": [
    "y_train_sct = np.ravel(\n",
    "    np.array(scottsdale_train_matrix[train_nonzero_indices_sct]))\n",
    "y_val_sct = np.ravel(np.array(scottsdale_val_matrix[val_nonzero_indices_sct]))\n",
    "y_test_sct = np.ravel(\n",
    "    np.array(scottsdale_test_matrix[test_nonzero_indices_sct]))"
   ]
  },
  {
   "cell_type": "code",
   "execution_count": null,
   "metadata": {
    "colab": {},
    "colab_type": "code",
    "id": "CaVXxRCSuW3V"
   },
   "outputs": [],
   "source": [
    "from sklearn.linear_model import LinearRegression"
   ]
  },
  {
   "cell_type": "code",
   "execution_count": null,
   "metadata": {
    "colab": {
     "base_uri": "https://localhost:8080/",
     "height": 34
    },
    "colab_type": "code",
    "id": "UK8eJTNduwge",
    "outputId": "62d14d5c-35d3-4588-e8a9-81e0d0deaa58"
   },
   "outputs": [],
   "source": [
    "lr_sct = LinearRegression(fit_intercept=True)\n",
    "lr_sct.fit(ensemble_training_sct_df.iloc[:, -3:], y_train_sct)\n",
    "ensemble_val_pred_sct = lr_sct.predict(ensemble_validation_sct_df.iloc[:, -3:])\n",
    "MSE_ensemble_sct = calculate_mse(ensemble_val_pred_sct, y_val_sct)\n",
    "print('MSE of the ensemble of Models for restaurants in Scottsdalle = ', MSE_ensemble_sct)"
   ]
  },
  {
   "cell_type": "markdown",
   "metadata": {
    "colab_type": "text",
    "id": "OCyvW2yQvsvE"
   },
   "source": [
    "**Ridge Regression with high penalty**"
   ]
  },
  {
   "cell_type": "code",
   "execution_count": null,
   "metadata": {},
   "outputs": [],
   "source": [
    "from sklearn.linear_model import Ridge\n",
    "lrr_phx = Ridge(alpha=10000)"
   ]
  },
  {
   "cell_type": "code",
   "execution_count": null,
   "metadata": {
    "colab": {
     "base_uri": "https://localhost:8080/",
     "height": 34
    },
    "colab_type": "code",
    "id": "QeGuNjbFuuck",
    "outputId": "73263f65-8e27-4a57-e372-c811bb3dc632"
   },
   "outputs": [],
   "source": [
    "lrr_sct = Ridge(alpha=10000)\n",
    "lrr_sct.fit(ensemble_training_sct_df.iloc[:, -3:], y_train_sct)\n",
    "ensemble_val_pred_sct = lrr_sct.predict(\n",
    "    ensemble_validation_sct_df.iloc[:, -3:])\n",
    "MSE_ensemble_sct = calculate_mse(ensemble_val_pred_sct, y_val_sct)\n",
    "print('MSE of the ensemble of Models for restaurants in Scottsdalle = ', MSE_ensemble_sct)"
   ]
  },
  {
   "cell_type": "markdown",
   "metadata": {
    "colab_type": "text",
    "id": "o4u_wHJlwDIN"
   },
   "source": [
    "# 4. Testing the best model on the test data and checking the test accuracy\n",
    "## For the restaurants in Phoenix and Scottsdalle, the best model was the ensemble model."
   ]
  },
  {
   "cell_type": "code",
   "execution_count": null,
   "metadata": {
    "colab": {
     "base_uri": "https://localhost:8080/",
     "height": 34
    },
    "colab_type": "code",
    "id": "hyj_LS8MwLbZ",
    "outputId": "861590c0-60f3-4fa4-8f64-df1f07957515"
   },
   "outputs": [],
   "source": [
    "ensemble_test_pred_sct = lrr_sct.predict(ensemble_testing_sct_df.iloc[:, -3:])\n",
    "MSE_test_sct = calculate_mse(ensemble_test_pred_sct, y_test_sct)\n",
    "print('MSE of the ensemble of Models for restaurants in Scottsdalle (test) = ', MSE_test_sct)"
   ]
  }
 ],
 "metadata": {
  "accelerator": "GPU",
  "colab": {
   "collapsed_sections": [],
   "name": "Yelp Recommendation System.ipynb",
   "provenance": [],
   "version": "0.3.2"
  },
  "kernelspec": {
   "display_name": "Python 3 (ipykernel)",
   "language": "python",
   "name": "python3"
  },
  "language_info": {
   "codemirror_mode": {
    "name": "ipython",
    "version": 3
   },
   "file_extension": ".py",
   "mimetype": "text/x-python",
   "name": "python",
   "nbconvert_exporter": "python",
   "pygments_lexer": "ipython3",
   "version": "3.9.19"
  }
 },
 "nbformat": 4,
 "nbformat_minor": 4
}
