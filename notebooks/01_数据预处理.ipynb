{
 "cells": [
  {
   "cell_type": "code",
   "execution_count": 1,
   "metadata": {
    "colab": {},
    "colab_type": "code",
    "id": "hinonm4y3-5Y"
   },
   "outputs": [],
   "source": [
    "import pandas as pd\n",
    "import numpy as np\n",
    "import json\n",
    "import sys\n",
    "sys.path.append('..')"
   ]
  },
  {
   "cell_type": "code",
   "execution_count": 2,
   "metadata": {},
   "outputs": [],
   "source": [
    "from src import *\n",
    "with open('../assets/yelp_academic.json', 'r') as file:\n",
    "    yelp_academic_info = json.load(file)\n",
    "\n",
    "with open('../assets/yelp_business.json', 'r') as file:\n",
    "    yelp_business_info = json.load(file)\n",
    "\n",
    "# 构建dtype字典\n",
    "yelp_academic_dtype = {key: value['type']\n",
    "                       for key, value in yelp_academic_info.items()}\n",
    "yelp_business_dtype = {key: value['type']\n",
    "                       for key, value in yelp_business_info.items()}"
   ]
  },
  {
   "cell_type": "code",
   "execution_count": 3,
   "metadata": {
    "colab": {
     "base_uri": "https://localhost:8080/",
     "height": 71
    },
    "colab_type": "code",
    "id": "5_VrpU45PCgf",
    "outputId": "1007993c-e176-4eb5-aad5-dcc62410ccdf"
   },
   "outputs": [],
   "source": [
    "yelp_academic = pd.read_csv(\n",
    "    '../data/yelp_academic_dataset_review.csv',\n",
    "    encoding='utf-8',\n",
    "    dtype=yelp_academic_dtype)\n",
    "\n",
    "yelp_business = pd.read_csv(\n",
    "    '../data/yelp_academic_dataset_business.csv',\n",
    "    encoding='utf-8',\n",
    "    dtype=yelp_business_dtype)"
   ]
  },
  {
   "cell_type": "markdown",
   "metadata": {
    "colab_type": "text",
    "id": "3WbQnnOuURQI"
   },
   "source": [
    "这里查看每个城市的不同种类数量"
   ]
  },
  {
   "cell_type": "code",
   "execution_count": 4,
   "metadata": {
    "colab": {
     "base_uri": "https://localhost:8080/",
     "height": 361
    },
    "colab_type": "code",
    "id": "C9_pVWWwUDh_",
    "outputId": "5654eeb0-0908-4e52-909a-370090f13151"
   },
   "outputs": [],
   "source": [
    "import matplotlib.pyplot as plt\n",
    "from matplotlib.font_manager import FontProperties\n",
    "PingFang = FontProperties(fname='../assets/PingFang.ttc')\n",
    "plt.style.use('ggplot')"
   ]
  },
  {
   "cell_type": "code",
   "execution_count": 5,
   "metadata": {},
   "outputs": [
    {
     "name": "stdout",
     "output_type": "stream",
     "text": [
      "主色调： ['#00754B', '#C8FCEA', '#6A9A8B']\n"
     ]
    }
   ],
   "source": [
    "color_code = '#E5E5E5'\n",
    "palette_key = 'Twisted Spot Palette'\n",
    "\n",
    "try:\n",
    "    with open('../assets/Palette.json', 'r') as file:\n",
    "        data = json.load(file)\n",
    "    if color_code in data:\n",
    "        main_color = data[color_code].get(palette_key, [])\n",
    "        print(\"主色调：\", main_color)\n",
    "except FileNotFoundError:\n",
    "    ImportError(\"JSON文件格式不正确。\")\n",
    "except json.JSONDecodeError:\n",
    "    ImportError(\"JSON文件格式不正确。\")"
   ]
  },
  {
   "cell_type": "code",
   "execution_count": null,
   "metadata": {},
   "outputs": [],
   "source": [
    "# 按城市分组并计算商家数量\n",
    "yelp_business_groups = yelp_business.groupby('city').count()\n",
    "yelp_business_city = yelp_business_groups['name']\n",
    "yelp_business_city_sorted = yelp_business_city.sort_values(ascending=False)\n",
    "\n",
    "# 绘制前30个城市的柱状图\n",
    "ax = yelp_business_city_sorted[:30].plot(\n",
    "    kind='bar',  figsize=(12, 8), color=main_color[0])\n",
    "ax.set_xticklabels(\n",
    "    yelp_business_city_sorted[:30].index, fontproperties=PingFang, rotation=45, ha='right')\n",
    "\n",
    "ax.set_xlabel('城市', fontproperties=PingFang)\n",
    "ax.set_ylabel('商家数量', fontproperties=PingFang)\n",
    "plt.tight_layout()\n",
    "plt.savefig('../images/01_每个城市的商家数量.png', dpi=600)\n",
    "ax.set_title('每个城市的商家数量（前30名）', fontproperties=PingFang, fontsize=16)\n",
    "plt.show()"
   ]
  },
  {
   "cell_type": "markdown",
   "metadata": {
    "colab_type": "text",
    "id": "L1SpPg1WUXKe"
   },
   "source": [
    "查看不同类型的企业及其数量"
   ]
  },
  {
   "cell_type": "code",
   "execution_count": null,
   "metadata": {
    "colab": {
     "base_uri": "https://localhost:8080/",
     "height": 492
    },
    "colab_type": "code",
    "id": "qVybF8_VUUYd",
    "outputId": "f447c46b-f434-483a-b6f2-764e887fee51"
   },
   "outputs": [],
   "source": [
    "# 首先计算每个类别的出现次数\n",
    "categories_dict = {}\n",
    "for _ in yelp_business.categories:\n",
    "    cat = str(_).split(',')\n",
    "    for j in cat:\n",
    "        if j not in categories_dict.keys():\n",
    "            categories_dict[j] = 1\n",
    "        else:\n",
    "            categories_dict[j] += 1\n",
    "\n",
    "categories_series = pd.Series(categories_dict)\n",
    "categories_series.sort_values(ascending=False, inplace=True)\n",
    "\n",
    "# 绘制前30个类别的柱状图\n",
    "ax = categories_series[:30].plot(\n",
    "    kind='bar', color=main_color[0], figsize=(12, 8))\n",
    "ax.set_xticklabels(\n",
    "    categories_series[:30].index, fontproperties=PingFang,\n",
    "    rotation=45, ha='right', wrap=True,\n",
    "    fontsize=8)\n",
    "\n",
    "\n",
    "ax.set_xlabel('类别', fontproperties=PingFang)\n",
    "ax.set_ylabel('数量', fontproperties=PingFang)\n",
    "plt.tight_layout()\n",
    "plt.savefig('../images/02_最受欢迎的商家类别.png', dpi=600)\n",
    "ax.set_title('最受欢迎的商家类别（前30名）', fontproperties=PingFang, fontsize=16)\n",
    "plt.show()"
   ]
  },
  {
   "cell_type": "markdown",
   "metadata": {
    "colab_type": "text",
    "id": "gkSALjqXUjd0"
   },
   "source": [
    "## 1.3. 商业和城市有序对及其计数"
   ]
  },
  {
   "cell_type": "code",
   "execution_count": null,
   "metadata": {
    "colab": {
     "base_uri": "https://localhost:8080/",
     "height": 552
    },
    "colab_type": "code",
    "id": "hPeDrWcHUbIi",
    "outputId": "74c62266-4f3f-4d0d-d807-a0cd2e686db0"
   },
   "outputs": [],
   "source": [
    "# 创建business_city字典，用于存储城市和分类的商家数量\n",
    "business_city = {}\n",
    "n = len(yelp_business)\n",
    "\n",
    "for _ in range(n):\n",
    "    k1 = str(yelp_business.categories.iloc[_]).split(',')\n",
    "    k2 = yelp_business.city.iloc[_]\n",
    "    for j in k1:\n",
    "        k = (j, k2)\n",
    "        if k not in business_city.keys():\n",
    "            business_city[k] = 1\n",
    "        else:\n",
    "            business_city[k] += 1\n",
    "\n",
    "# 将字典转换为Series并排序\n",
    "business_city_series = pd.Series(business_city)\n",
    "business_city_series.sort_values(ascending=False, inplace=True)\n",
    "\n",
    "# 绘制前30个城市-分类的柱状图\n",
    "fig, ax = plt.subplots(figsize=(12, 8))\n",
    "business_city_series[:30].plot(kind='bar', color=main_color[0], ax=ax)\n",
    "\n",
    "ax.set_xticklabels(\n",
    "    business_city_series[:30].index,\n",
    "    fontproperties=PingFang,\n",
    "    rotation=45, ha='right',\n",
    "    wrap=True, fontsize=8)\n",
    "\n",
    "ax.set_xlabel('城市-分类', fontproperties=PingFang)\n",
    "ax.set_ylabel('商家数量', fontproperties=PingFang)\n",
    "plt.tight_layout()\n",
    "plt.savefig('../images/03_城市和商家类别组合数量.png', dpi=600)\n",
    "ax.set_title('城市和商家类别组合数量（前30名）', fontproperties=PingFang, fontsize=16)\n",
    "plt.show()"
   ]
  },
  {
   "cell_type": "markdown",
   "metadata": {
    "colab_type": "text",
    "id": "caXHhBuNUqzh"
   },
   "source": [
    "可以看出，Yelp 上列出的多数商家是餐馆、购物场所和娱乐中心。对于这组数据（来自 Yelp 网站），拥有最多商家的主要城市是`Las Vegas`, `Phoenix`,和`Scottsdale`。"
   ]
  },
  {
   "cell_type": "markdown",
   "metadata": {},
   "source": [
    "# 2 从评论文本预测Yelp评分"
   ]
  },
  {
   "cell_type": "code",
   "execution_count": 6,
   "metadata": {},
   "outputs": [],
   "source": [
    "from sklearn.pipeline import Pipeline, make_pipeline\n",
    "from sklearn.feature_extraction.text import TfidfVectorizer\n",
    "from sklearn.linear_model import LogisticRegression\n",
    "from sklearn.model_selection import cross_val_score\n",
    "from sklearn import metrics\n",
    "from sklearn.metrics import roc_auc_score"
   ]
  },
  {
   "cell_type": "code",
   "execution_count": 7,
   "metadata": {},
   "outputs": [
    {
     "name": "stdout",
     "output_type": "stream",
     "text": [
      "restaurant_reviews 数据框的维度：(699459, 10)\n"
     ]
    }
   ],
   "source": [
    "# 筛选出所有属于\"Restaurant\"类别的商家\n",
    "restaurants = yelp_business[yelp_business['categories'].str.contains(\n",
    "    'Restaurant') == True]\n",
    "\n",
    "# 筛选出那些其 business_id 存在于上面筛选出的商家ID列表中的评论\n",
    "restaurant_reviews = yelp_academic[yelp_academic.business_id.isin(\n",
    "    restaurants['business_id']) == True]\n",
    "\n",
    "print(f\"restaurant_reviews 数据框的维度：{restaurant_reviews.shape}\")"
   ]
  },
  {
   "cell_type": "code",
   "execution_count": 8,
   "metadata": {},
   "outputs": [
    {
     "name": "stdout",
     "output_type": "stream",
     "text": [
      "训练数据集维度： (489621, 10)\n",
      "测试数据集维度： (209838, 10)\n"
     ]
    }
   ],
   "source": [
    "# 计算训练集大小，取整个数据集的70%\n",
    "train_size = int(len(restaurant_reviews) * 0.7)\n",
    "\n",
    "# 将前70%的数据分配给训练集\n",
    "train = restaurant_reviews[:train_size]\n",
    "\n",
    "# 将剩余的30%的数据分配给测试集\n",
    "test = restaurant_reviews[train_size:]\n",
    "\n",
    "print(f\"训练数据集维度： {train.shape}\")\n",
    "print(f\"测试数据集维度： {test.shape}\")"
   ]
  },
  {
   "cell_type": "code",
   "execution_count": 9,
   "metadata": {},
   "outputs": [
    {
     "data": {
      "image/png": "[encoded data removed]",
      "text/plain": [
       "<Figure size 640x480 with 1 Axes>"
      ]
     },
     "metadata": {},
     "output_type": "display_data"
    }
   ],
   "source": [
    "# 筛选出需要的列\n",
    "train = train[['text', 'stars']]\n",
    "\n",
    "counts, bins, patches = plt.hist(\n",
    "    train['stars'], bins=5, color=main_color[0], edgecolor='black')\n",
    "\n",
    "# 在柱子上方添加数值标签\n",
    "for count, patch in zip(counts, patches):\n",
    "    x = patch.get_x() + patch.get_width() / 2\n",
    "    y = patch.get_height()\n",
    "    plt.text(x, y, str(int(count)), ha='center',\n",
    "             va='bottom', fontproperties=PingFang)\n",
    "\n",
    "# 添加图形标题和坐标轴标签\n",
    "plt.title('评论星级分布', fontproperties=PingFang)\n",
    "plt.xlabel('星级', fontproperties=PingFang)\n",
    "plt.ylabel('频数', fontproperties=PingFang)\n",
    "\n",
    "plt.tight_layout()\n",
    "plt.savefig('../images/05_评论星级分布.png', dpi=600)\n",
    "plt.show()"
   ]
  },
  {
   "cell_type": "markdown",
   "metadata": {},
   "source": [
    "正如我在探索完整的评论集时所看到的那样，这个样本明显偏向于4星和5星评论。我不认为这是我想要平衡数据集的事情，但当我查看模型准确性时，我希望意识到这一点。\n",
    "\n",
    "在数据准备方面，最初我只需要对我的评分变量进行独热编码。这将给我5个二进制列，每个评级级别一个。"
   ]
  },
  {
   "cell_type": "code",
   "execution_count": 10,
   "metadata": {},
   "outputs": [
    {
     "data": {
      "text/html": [
       "<div>\n",
       "<style scoped>\n",
       "    .dataframe tbody tr th:only-of-type {\n",
       "        vertical-align: middle;\n",
       "    }\n",
       "\n",
       "    .dataframe tbody tr th {\n",
       "        vertical-align: top;\n",
       "    }\n",
       "\n",
       "    .dataframe thead th {\n",
       "        text-align: right;\n",
       "    }\n",
       "</style>\n",
       "<table border=\"1\" class=\"dataframe\">\n",
       "  <thead>\n",
       "    <tr style=\"text-align: right;\">\n",
       "      <th></th>\n",
       "      <th>text</th>\n",
       "      <th>stars_1</th>\n",
       "      <th>stars_2</th>\n",
       "      <th>stars_3</th>\n",
       "      <th>stars_4</th>\n",
       "      <th>stars_5</th>\n",
       "    </tr>\n",
       "  </thead>\n",
       "  <tbody>\n",
       "    <tr>\n",
       "      <th>8</th>\n",
       "      <td>Pretty good dinner with a nice selection of fo...</td>\n",
       "      <td>False</td>\n",
       "      <td>False</td>\n",
       "      <td>False</td>\n",
       "      <td>True</td>\n",
       "      <td>False</td>\n",
       "    </tr>\n",
       "    <tr>\n",
       "      <th>9</th>\n",
       "      <td>Good truck stop dining at the right price. We ...</td>\n",
       "      <td>False</td>\n",
       "      <td>False</td>\n",
       "      <td>False</td>\n",
       "      <td>True</td>\n",
       "      <td>False</td>\n",
       "    </tr>\n",
       "    <tr>\n",
       "      <th>10</th>\n",
       "      <td>If you like lot lizards, you'll love the Pine ...</td>\n",
       "      <td>False</td>\n",
       "      <td>False</td>\n",
       "      <td>False</td>\n",
       "      <td>True</td>\n",
       "      <td>False</td>\n",
       "    </tr>\n",
       "    <tr>\n",
       "      <th>11</th>\n",
       "      <td>Enjoyable experience for the whole family. The...</td>\n",
       "      <td>False</td>\n",
       "      <td>False</td>\n",
       "      <td>False</td>\n",
       "      <td>True</td>\n",
       "      <td>False</td>\n",
       "    </tr>\n",
       "    <tr>\n",
       "      <th>12</th>\n",
       "      <td>One of my favorite truck stop diners with soli...</td>\n",
       "      <td>False</td>\n",
       "      <td>False</td>\n",
       "      <td>False</td>\n",
       "      <td>True</td>\n",
       "      <td>False</td>\n",
       "    </tr>\n",
       "  </tbody>\n",
       "</table>\n",
       "</div>"
      ],
      "text/plain": [
       "                                                 text  stars_1  stars_2  \\\n",
       "8   Pretty good dinner with a nice selection of fo...    False    False   \n",
       "9   Good truck stop dining at the right price. We ...    False    False   \n",
       "10  If you like lot lizards, you'll love the Pine ...    False    False   \n",
       "11  Enjoyable experience for the whole family. The...    False    False   \n",
       "12  One of my favorite truck stop diners with soli...    False    False   \n",
       "\n",
       "    stars_3  stars_4  stars_5  \n",
       "8     False     True    False  \n",
       "9     False     True    False  \n",
       "10    False     True    False  \n",
       "11    False     True    False  \n",
       "12    False     True    False  "
      ]
     },
     "execution_count": 10,
     "metadata": {},
     "output_type": "execute_result"
    }
   ],
   "source": [
    "# 将 'stars' 列独热编码，为列中的每个唯一值创建一个新的列，\n",
    "# 如果该行在原始列中对应的值为该值，则新列为1，否则为0\n",
    "train = pd.get_dummies(train, columns=['stars'])\n",
    "train.head()"
   ]
  },
  {
   "cell_type": "code",
   "execution_count": 11,
   "metadata": {},
   "outputs": [
    {
     "data": {
      "image/png": "[encoded data removed]",
      "text/plain": [
       "<Figure size 640x480 with 1 Axes>"
      ]
     },
     "metadata": {},
     "output_type": "display_data"
    }
   ],
   "source": [
    "# 筛选出需要的列\n",
    "test = test[['text', 'stars']]\n",
    "\n",
    "counts, bins, patches = plt.hist(\n",
    "    test['stars'], bins=5, color=main_color[0], edgecolor='black')\n",
    "\n",
    "# 在柱子上方添加数值标签\n",
    "for count, patch in zip(counts, patches):\n",
    "    x = patch.get_x() + patch.get_width() / 2\n",
    "    y = patch.get_height()\n",
    "    plt.text(x, y, str(int(count)), ha='center',\n",
    "             va='bottom', fontproperties=PingFang)\n",
    "\n",
    "# 添加图形标题和坐标轴标签\n",
    "plt.title('评论星级分布', fontproperties=PingFang)\n",
    "plt.xlabel('星级', fontproperties=PingFang)\n",
    "plt.ylabel('频数', fontproperties=PingFang)\n",
    "\n",
    "plt.tight_layout()\n",
    "plt.savefig('../images/05_测试集评论星级分布.png', dpi=600)\n",
    "plt.show()"
   ]
  },
  {
   "cell_type": "code",
   "execution_count": 12,
   "metadata": {},
   "outputs": [
    {
     "name": "stdout",
     "output_type": "stream",
     "text": [
      "现在训练数据集维度： (489621, 6)\n",
      "现在测试数据集维度： (209838, 6)\n"
     ]
    }
   ],
   "source": [
    "# 将 'stars' 列转换为虚拟/哑变量（one-hot编码）\n",
    "# 这会为 'stars' 列中的每个唯一值创建一个新的列，如果该行在原始列中对应的值为该值，则新列为1，否则为0\n",
    "test = pd.get_dummies(test, columns=['stars'])\n",
    "\n",
    "print(f\"现在训练数据集维度： {train.shape}\")\n",
    "print(f\"现在测试数据集维度： {test.shape}\")"
   ]
  },
  {
   "cell_type": "markdown",
   "metadata": {},
   "source": [
    "## 朴素贝叶斯线性模型"
   ]
  },
  {
   "cell_type": "markdown",
   "metadata": {},
   "source": [
    "使用朴素贝叶斯线性分类器和`TfidfVectorizer`，将评论文本转换为`TF-IDF`加权的词向量，为NLP问题建立一个基线模型。\n",
    "\n",
    "> 通过比较词在不同星级评论中的出现频率，计算条件概率，从而预测评论的星级。"
   ]
  },
  {
   "cell_type": "code",
   "execution_count": null,
   "metadata": {},
   "outputs": [],
   "source": [
    "# 设置TfidfVectorizer，限制最多使用2000个最重要的特征（单词），以构建词向量模型。\n",
    "max_features = 2000\n",
    "tfidf = TfidfVectorizer(max_features = max_features)"
   ]
  },
  {
   "cell_type": "markdown",
   "metadata": {},
   "source": [
    "应用朴素贝叶斯模型，计算给定词汇（如\"这\", \"餐厅\", \"很\", \"糟糕\"）在不同星级评论下的条件概率，并通过拉普拉斯平滑处理未见过的单词。\n",
    "\n",
    "> 使用得到的朴素贝叶斯概率作为特征，结合逻辑回归模型来预测评论的星级，从而提高模型的预测精度和解释性。"
   ]
  },
  {
   "cell_type": "code",
   "execution_count": null,
   "metadata": {},
   "outputs": [],
   "source": [
    "# 使用sklearn pipeline创建管道：\n",
    "# 首先使用TfidfVectorizer（tfidf）将文本转换为TF-IDF特征。\n",
    "# 然后，利用朴素贝叶斯特征转换器（NBFeatures）计算概率特征。\n",
    "# 最后，将这些特征用于逻辑回归模型（LogisticRegression）进行最终的分类。\n",
    "\n",
    "lr = LogisticRegression()  # 初始化逻辑回归模型\n",
    "nb = NBFeatures(1)  # 初始化朴素贝叶斯特征转换器，参数1可能表示使用拉普拉斯平滑\n",
    "pl = Pipeline([\n",
    "    ('tfidf', tfidf),  # 第一步：TF-IDF向量化\n",
    "    ('nb', nb),        # 第二步：计算朴素贝叶斯概率特征\n",
    "    ('lr', lr)         # 第三步：逻辑回归分类\n",
    "])"
   ]
  },
  {
   "cell_type": "markdown",
   "metadata": {},
   "source": [
    "由于原始星级评分包含多个类别（1星到5星），以下代码将这些评分转换成多个二分类问题，也就是对每个类别（星级），分别预测评论属于该星级的概率。"
   ]
  },
  {
   "cell_type": "code",
   "execution_count": null,
   "metadata": {},
   "outputs": [],
   "source": [
    "class_names = ['stars_1', 'stars_2', 'stars_3', 'stars_4', 'stars_5']\n",
    "scores = []  # 存储每个类别的交叉验证分数\n",
    "preds = np.zeros((len(test), len(class_names)))  # 初始化一个用于存储预济结果的数组\n",
    "\n",
    "# 遍历每个星级类别，对每个类别进行模型训练和预测\n",
    "for _, class_name in enumerate(class_names):\n",
    "    train_target = train[class_name]  # 获取当前星级类别的目标值\n",
    "\n",
    "    # 计算当前类别的交叉验证分数\n",
    "    cv_score = np.mean(cross_val_score(estimator=pl,\n",
    "                                       X=train['text'].values,\n",
    "                                       y=train_target,\n",
    "                                       cv=3,\n",
    "                                       scoring='accuracy'))\n",
    "\n",
    "    scores.append(cv_score)  # 添加当前星级的分数到列表\n",
    "\n",
    "    print('类别的CV评分 {} 是 {}'.format(class_name, cv_score))  # 打印当前星级的交叉验证分数\n",
    "\n",
    "    pl.fit(train['text'].values, train_target)  # 使用当前类别的数据训练模型\n",
    "    preds[:, _] = pl.predict_proba(test['text'].values)[\n",
    "        :, 1]  # 对测试集进行概率预测并存储结果"
   ]
  },
  {
   "cell_type": "markdown",
   "metadata": {},
   "source": [
    "使用 sklearn 的 classification_report 生成分类模型的性能报告<br>\n",
    "`y_true`: 真实的标签，通过从 test_sample 数据集的 class_names 列中取最大值的索引获得<br>\n",
    "`y_pred`: 预测的标签，通过从预测结果 preds 中取最大值的索引获得"
   ]
  },
  {
   "cell_type": "code",
   "execution_count": null,
   "metadata": {},
   "outputs": [],
   "source": [
    "NBF_report = metrics.classification_report(\n",
    "    y_true=np.argmax(test[class_names].values, axis=1),\n",
    "    y_pred=np.argmax(preds, axis=1))\n",
    "print(NBF_report)"
   ]
  },
  {
   "cell_type": "markdown",
   "metadata": {},
   "source": [
    "## 2.2 神经网络模型"
   ]
  },
  {
   "cell_type": "markdown",
   "metadata": {},
   "source": [
    "NLP部分将使用基于推特语料库的200维GloVe嵌入作为词向量，使用Keras框架来构建和训练一个神经网络模型，以提升对评论文本的分类精度和解释能力。"
   ]
  },
  {
   "cell_type": "code",
   "execution_count": 13,
   "metadata": {},
   "outputs": [],
   "source": [
    "from keras.preprocessing.text import Tokenizer\n",
    "from tensorflow.keras.preprocessing.sequence import pad_sequences\n",
    "from keras.layers import Dense, Input, LSTM, Embedding, Dropout, Activation, SpatialDropout1D, GRU\n",
    "from keras.layers import Bidirectional, GlobalAveragePooling1D, GlobalMaxPooling1D, concatenate\n",
    "from keras.models import Model\n",
    "from keras.utils import to_categorical\n",
    "from keras.callbacks import EarlyStopping, ModelCheckpoint"
   ]
  },
  {
   "cell_type": "code",
   "execution_count": 14,
   "metadata": {},
   "outputs": [
    {
     "name": "stdout",
     "output_type": "stream",
     "text": [
      "最小文本长度： 1.0\n",
      "最大文本长度： 5000.0\n",
      "文本平均长度： 696.2578596961057\n",
      "文本中位数长度： 512.0\n",
      "文本长度的标准差： 635.3025283281064\n"
     ]
    }
   ],
   "source": [
    "lengths = yelp_academic['text'].str.len()\n",
    "\n",
    "# 计算并打印关键统计量\n",
    "print(\"最小文本长度：\", lengths.min())\n",
    "print(\"最大文本长度：\", lengths.max())\n",
    "print(\"文本平均长度：\", lengths.mean())\n",
    "print(\"文本中位数长度：\", lengths.median())\n",
    "print(\"文本长度的标准差：\", lengths.std())"
   ]
  },
  {
   "cell_type": "code",
   "execution_count": 25,
   "metadata": {},
   "outputs": [],
   "source": [
    "# 设置词嵌入的维度为200，这意味着每个词将被表示为一个300维的向量\n",
    "embed_size = 200\n",
    "# 设置最大特征数（词汇表大小）为50,000，即在模型中最多使用50,000个不同的词\n",
    "max_features = 50000\n",
    "# 设置最大序列长度为500，即每条评论最多使用200个词\n",
    "maxlen = 500\n",
    "\n",
    "embedding_file = '../GloVe/Twitter/glove.twitter.27B.200d.txt'\n",
    "\n",
    "embeddings_index = {}\n",
    "\n",
    "with open(embedding_file, 'r', encoding='utf-8') as f:\n",
    "    for line in f:\n",
    "        values = line.strip().split()\n",
    "        word = values[0]\n",
    "        try:\n",
    "            coefs = np.asarray(values[1:], dtype='float32')\n",
    "            embeddings_index[word] = coefs\n",
    "        except ValueError as e:\n",
    "            # print(f\"跳过行：{line}\")\n",
    "            continue"
   ]
  },
  {
   "cell_type": "code",
   "execution_count": 26,
   "metadata": {},
   "outputs": [
    {
     "name": "stdout",
     "output_type": "stream",
     "text": [
      "1193514\n"
     ]
    }
   ],
   "source": [
    "print(len(embeddings_index))"
   ]
  },
  {
   "cell_type": "code",
   "execution_count": 27,
   "metadata": {},
   "outputs": [],
   "source": [
    "# 定义目标类别的列名，这里包含从1星到5星的评价\n",
    "class_names = ['stars_1', \n",
    "               'stars_2',\n",
    "               'stars_3', \n",
    "               'stars_4',\n",
    "               'stars_5']\n",
    "\n",
    "# 从train数据集中提取这些列的值，作为模型的目标变量y\n",
    "y = train[class_names].values"
   ]
  },
  {
   "cell_type": "markdown",
   "metadata": {},
   "source": [
    "使用Keras的`pad_sequences`方法对分词后的文本数据进行填充处理，以确保所有向量具有统一的长度，满足神经网络模型的输入要求。"
   ]
  },
  {
   "cell_type": "code",
   "execution_count": 28,
   "metadata": {},
   "outputs": [],
   "source": [
    "# 初始化一个Tokenizer对象，设置最大词汇量为之前定义的max_features\n",
    "tokenizer = Tokenizer(num_words=max_features)\n",
    "\n",
    "# 用train数据集的文本列来训练tokenizer，构建词汇索引\n",
    "tokenizer.fit_on_texts(list(train['text'].values))\n",
    "\n",
    "# 将训练和测试集的文本转换为整数序列，根据每个词在tokenizer词汇表中的索引\n",
    "X_train = tokenizer.texts_to_sequences(train['text'].values)\n",
    "X_test = tokenizer.texts_to_sequences(test['text'].values)\n",
    "\n",
    "# 使用pad_sequences方法将训练集和测试集的序列填充到相同的最大长度\n",
    "# 不足的部分使用默认值填充（默认为0）\n",
    "x_train = pad_sequences(X_train, maxlen=maxlen)\n",
    "x_test = pad_sequences(X_test, maxlen=maxlen)\n"
   ]
  },
  {
   "cell_type": "markdown",
   "metadata": {},
   "source": [
    "初始化词嵌入，将不在预训练嵌入中的词设置为零向量，并允许在模型训练过程中调整这些嵌入。\n",
    "\n",
    "使用预训练的推特嵌入作为起点，优化模型以适应具体的应用场景和数据集。"
   ]
  },
  {
   "cell_type": "code",
   "execution_count": 29,
   "metadata": {},
   "outputs": [],
   "source": [
    "# 获取Tokenizer的词索引字典\n",
    "word_index = tokenizer.word_index\n",
    "\n",
    "# 确定嵌入矩阵的大小：取最大特征数和词索引长度的较小值\n",
    "nb_words = min(max_features, len(word_index))\n",
    "\n",
    "# 创建一个全零矩阵，其形状为(nb_words, embed_size)，用于存储词向量\n",
    "embedding_matrix = np.zeros((nb_words, embed_size))\n",
    "\n",
    "missed = []\n",
    "\n",
    "for word, _ in word_index.items():\n",
    "    # 只处理索引小于max_features的词，以保持embedding_matrix大小合适\n",
    "    if _ >= max_features: break\n",
    "    # 从预训练的词向量中获取当前词的向量\n",
    "    embedding_vector = embeddings_index.get(word)\n",
    "    # 如果找到了词向量，将其添加到embedding_matrix中对应的位置\n",
    "    if embedding_vector is not None:\n",
    "        embedding_matrix[_] = embedding_vector\n",
    "    else:\n",
    "        # 如果未找到词向量，将该词记录到missed列表中\n",
    "        missed.append(word)"
   ]
  },
  {
   "cell_type": "markdown",
   "metadata": {},
   "source": []
  },
  {
   "cell_type": "code",
   "execution_count": 30,
   "metadata": {},
   "outputs": [
    {
     "data": {
      "text/plain": [
       "[\"it's\",\n",
       " \"don't\",\n",
       " \"i'm\",\n",
       " \"i've\",\n",
       " \"didn't\",\n",
       " '2',\n",
       " '5',\n",
       " '3',\n",
       " \"wasn't\",\n",
       " '4',\n",
       " \"can't\",\n",
       " '1',\n",
       " \"you're\",\n",
       " '10',\n",
       " \"that's\",\n",
       " \"i'd\",\n",
       " \"i'll\",\n",
       " '6',\n",
       " '20',\n",
       " \"isn't\",\n",
       " '30',\n",
       " \"couldn't\",\n",
       " '15',\n",
       " \"doesn't\",\n",
       " '8',\n",
       " '7',\n",
       " \"won't\",\n",
       " \"there's\",\n",
       " \"wouldn't\",\n",
       " '50',\n",
       " \"they're\",\n",
       " \"you'll\",\n",
       " \"weren't\",\n",
       " '9',\n",
       " \"haven't\",\n",
       " '12',\n",
       " '99',\n",
       " '00',\n",
       " '25',\n",
       " \"we've\",\n",
       " \"aren't\",\n",
       " '11',\n",
       " '95',\n",
       " \"we're\",\n",
       " '40',\n",
       " '24',\n",
       " '45',\n",
       " '100',\n",
       " \"you've\",\n",
       " \"we'll\",\n",
       " \"you'd\",\n",
       " \"let's\",\n",
       " '14',\n",
       " \"what's\",\n",
       " \"hadn't\",\n",
       " '16',\n",
       " '18',\n",
       " '13',\n",
       " \"we'd\",\n",
       " \"they've\",\n",
       " \"he's\",\n",
       " 'yelpers',\n",
       " \"here's\",\n",
       " \"friend's\",\n",
       " '75',\n",
       " '2nd',\n",
       " \"shouldn't\",\n",
       " '35',\n",
       " \"denny's\",\n",
       " '60',\n",
       " \"would've\",\n",
       " '17',\n",
       " \"joe's\",\n",
       " \"she's\",\n",
       " '1st',\n",
       " \"they'll\",\n",
       " '30pm',\n",
       " '22',\n",
       " \"chef's\",\n",
       " '21',\n",
       " '90',\n",
       " '0',\n",
       " \"hasn't\",\n",
       " '80',\n",
       " \"tv's\",\n",
       " \"wife's\",\n",
       " \"mcdonald's\",\n",
       " \"husband's\",\n",
       " '19',\n",
       " '3rd',\n",
       " \"could've\",\n",
       " \"they'd\",\n",
       " '7pm',\n",
       " '200',\n",
       " \"it'll\",\n",
       " '10pm',\n",
       " '6pm',\n",
       " '8pm',\n",
       " \"ain't\",\n",
       " '23',\n",
       " '26',\n",
       " '70',\n",
       " '9pm',\n",
       " \"who's\",\n",
       " 'spiciness',\n",
       " '28',\n",
       " '29',\n",
       " \"caesar's\",\n",
       " '32',\n",
       " \"grimaldi's\"]"
      ]
     },
     "execution_count": 30,
     "metadata": {},
     "output_type": "execute_result"
    }
   ],
   "source": [
    "len(missed)\n",
    "missed[:110]"
   ]
  },
  {
   "cell_type": "markdown",
   "metadata": {},
   "source": [
    "设置使用预训练的 GloVe 嵌入，并将 `trainable` 设置为 `true`，以允许对嵌入进行微调，有助于提高模型对特定数据集的适应性和准确性。\n",
    "\n",
    "实现早停（early stopping）机制来防止过拟合，当检测到验证集上的性能不再提升时自动停止训练。同时，使用检查点（checkpoint）保存验证性能最好的模型参数。"
   ]
  },
  {
   "cell_type": "code",
   "execution_count": 31,
   "metadata": {},
   "outputs": [],
   "source": [
    "# 定义模型的输入层，形状为 (maxlen,)，代表每个输入样本的长度\n",
    "inp = Input(shape=(maxlen,))\n",
    "\n",
    "# 创建嵌入层，使用预先加载的词嵌入矩阵，并设置为可训练\n",
    "x = Embedding(max_features, embed_size, weights=[\n",
    "              embedding_matrix], trainable=True)(inp)\n",
    "\n",
    "# 添加空间丢弃层，以减少模型对特定样本位置的过拟合\n",
    "x = SpatialDropout1D(0.5)(x)\n",
    "\n",
    "# 使用双向LSTM层处理时间序列数据\n",
    "x = Bidirectional(layer=LSTM(units=40, return_sequences=True))(x)\n",
    "\n",
    "# 在双向LSTM之后，再添加一个双向GRU层，以增强模型的学习能力\n",
    "x = Bidirectional(layer=GRU(units=40, return_sequences=True))(x)\n",
    "\n",
    "# 使用全局平均池化和全局最大池化层来提取特征\n",
    "avg_pool = GlobalAveragePooling1D()(x)\n",
    "max_pool = GlobalMaxPooling1D()(x)\n",
    "\n",
    "# 将平均池化和最大池化的结果合并，用于捕获不同的特征表示\n",
    "conc = concatenate([avg_pool, max_pool])\n",
    "\n",
    "# 输出层，使用sigmoid激活函数，输出5个单位\n",
    "outp = Dense(units=5, activation='sigmoid')(conc)\n",
    "# 定义模型，输入为inp，输出为outp\n",
    "yelp_review_model = Model(inputs=inp, outputs=outp)\n",
    "# 定义早停回调函数，当验证损失不再改善时提前终止训练\n",
    "earlystop = EarlyStopping(monitor='val_loss', min_delta=0, patience=3)\n",
    "\n",
    "# 检查点回调函数，保存验证损失最好的模型\n",
    "checkpoint = ModelCheckpoint(\n",
    "    monitor='val_loss',\n",
    "    save_best_only=True,\n",
    "    filepath='../assets/yelp_lstm_gru_weights.hdf5')\n",
    "\n",
    "# 编译模型，使用二元交叉熵损失函数和Adam优化器，同时监控准确率\n",
    "yelp_review_model.compile(loss='binary_crossentropy',\n",
    "              optimizer='adam',\n",
    "              metrics=['accuracy'])"
   ]
  },
  {
   "cell_type": "code",
   "execution_count": 32,
   "metadata": {},
   "outputs": [
    {
     "name": "stdout",
     "output_type": "stream",
     "text": [
      "Epoch 1/50\n",
      "766/766 [==============================] - 3811s 5s/step - loss: 0.3544 - accuracy: 0.5359 - val_loss: 0.3050 - val_accuracy: 0.6137\n",
      "Epoch 2/50\n",
      "766/766 [==============================] - 2918s 4s/step - loss: 0.3038 - accuracy: 0.6170 - val_loss: 0.2943 - val_accuracy: 0.6311\n",
      "Epoch 3/50\n",
      "766/766 [==============================] - 2345s 3s/step - loss: 0.2907 - accuracy: 0.6387 - val_loss: 0.2876 - val_accuracy: 0.6449\n",
      "Epoch 4/50\n",
      "766/766 [==============================] - 2304s 3s/step - loss: 0.2812 - accuracy: 0.6541 - val_loss: 0.2870 - val_accuracy: 0.6443\n",
      "Epoch 5/50\n",
      "766/766 [==============================] - 2330s 3s/step - loss: 0.2745 - accuracy: 0.6663 - val_loss: 0.2801 - val_accuracy: 0.6547\n",
      "Epoch 6/50\n",
      "766/766 [==============================] - 2431s 3s/step - loss: 0.2679 - accuracy: 0.6768 - val_loss: 0.2775 - val_accuracy: 0.6583\n",
      "Epoch 7/50\n",
      "766/766 [==============================] - 2316s 3s/step - loss: 0.2622 - accuracy: 0.6856 - val_loss: 0.2776 - val_accuracy: 0.6584\n",
      "Epoch 8/50\n",
      "766/766 [==============================] - 2423s 3s/step - loss: 0.2572 - accuracy: 0.6937 - val_loss: 0.2811 - val_accuracy: 0.6558\n",
      "Epoch 9/50\n",
      "766/766 [==============================] - 2293s 3s/step - loss: 0.2520 - accuracy: 0.7028 - val_loss: 0.2785 - val_accuracy: 0.6585\n"
     ]
    },
    {
     "data": {
      "text/plain": [
       "<keras.callbacks.History at 0x202a4b085e0>"
      ]
     },
     "execution_count": 32,
     "metadata": {},
     "output_type": "execute_result"
    }
   ],
   "source": [
    "# 训练模型，并在训练过程中使用早停和检查点回调函数\n",
    "yelp_review_model.fit(\n",
    "    x_train,  # 训练数据集的输入\n",
    "    y,        # 训练数据集的标签\n",
    "    batch_size=512,  # 批处理大小，每次更新权重时使用的样本数\n",
    "    epochs=50,  # 训练周期数，整个数据集将被训练50次\n",
    "    validation_split=0.2,  # 验证集比例，从训练数据中分割20%作为验证集\n",
    "    callbacks=[earlystop, checkpoint]  # 回调函数列表，包括早停和检查点回调函数\n",
    ")"
   ]
  },
  {
   "cell_type": "markdown",
   "metadata": {},
   "source": [
    "## 模型评估"
   ]
  },
  {
   "cell_type": "code",
   "execution_count": 39,
   "metadata": {},
   "outputs": [
    {
     "name": "stdout",
     "output_type": "stream",
     "text": [
      "205/205 [==============================] - 420s 2s/step\n",
      "205/205 [==============================] - 405s 2s/step - loss: 0.2670 - accuracy: 0.6730\n",
      "              precision    recall  f1-score   support\n",
      "\n",
      "           0       0.74      0.74      0.74     17513\n",
      "           1       0.57      0.54      0.56     19465\n",
      "           2       0.60      0.55      0.57     29216\n",
      "           3       0.60      0.67      0.63     64328\n",
      "           4       0.78      0.74      0.76     79316\n",
      "\n",
      "    accuracy                           0.67    209838\n",
      "   macro avg       0.66      0.65      0.65    209838\n",
      "weighted avg       0.68      0.67      0.67    209838\n",
      "\n"
     ]
    }
   ],
   "source": [
    "# 使用训练好的模型预测测试集\n",
    "y_test = yelp_review_model.predict(\n",
    "    [x_test],\n",
    "    batch_size=1024,\n",
    "    verbose=1\n",
    ")\n",
    "\n",
    "# 评估模型在测试集上的表现\n",
    "yelp_review_model.evaluate(\n",
    "    x_test,\n",
    "    test[class_names].values,\n",
    "    verbose=1,\n",
    "    batch_size=1024\n",
    ")\n",
    "\n",
    "NN_report = metrics.classification_report(\n",
    "    np.argmax(test[class_names].values, axis=1),\n",
    "    np.argmax(y_test, axis=1)\n",
    ")\n",
    "\n",
    "print(NN_report)\n",
    "\n",
    "yelp_review_model.save('../assets/yelp_review_model.h5')"
   ]
  },
  {
   "cell_type": "markdown",
   "metadata": {
    "colab_type": "text",
    "id": "89rO1bIJUyLR"
   },
   "source": [
    "# 3 清理评论数据"
   ]
  },
  {
   "cell_type": "markdown",
   "metadata": {},
   "source": [
    "## 3.1 删除不需要的列\n",
    "- `text`: 评论文本,\n",
    "- `useful`: 认为有用的人数,\n",
    "- `date`: 日期\n",
    "\n",
    "剩下的列是 `user_id`, `business_id` 和 `stars`."
   ]
  },
  {
   "cell_type": "code",
   "execution_count": 35,
   "metadata": {
    "colab": {
     "base_uri": "https://localhost:8080/",
     "height": 204
    },
    "colab_type": "code",
    "id": "EAmTEhqdUmLL",
    "outputId": "f79fcc02-d6e2-47eb-fbe6-43e3051d8834"
   },
   "outputs": [
    {
     "data": {
      "text/html": [
       "<div>\n",
       "<style scoped>\n",
       "    .dataframe tbody tr th:only-of-type {\n",
       "        vertical-align: middle;\n",
       "    }\n",
       "\n",
       "    .dataframe tbody tr th {\n",
       "        vertical-align: top;\n",
       "    }\n",
       "\n",
       "    .dataframe thead th {\n",
       "        text-align: right;\n",
       "    }\n",
       "</style>\n",
       "<table border=\"1\" class=\"dataframe\">\n",
       "  <thead>\n",
       "    <tr style=\"text-align: right;\">\n",
       "      <th></th>\n",
       "      <th>user_id</th>\n",
       "      <th>review_id</th>\n",
       "      <th>business_id</th>\n",
       "      <th>stars</th>\n",
       "      <th>type</th>\n",
       "    </tr>\n",
       "  </thead>\n",
       "  <tbody>\n",
       "    <tr>\n",
       "      <th>0</th>\n",
       "      <td>Xqd0DzHaiyRqVH3WRG7hzg</td>\n",
       "      <td>15SdjuK7DmYqUAj6rjGowg</td>\n",
       "      <td>vcNAWiLM4dR7D2nwwJ7nCA</td>\n",
       "      <td>5</td>\n",
       "      <td>review</td>\n",
       "    </tr>\n",
       "    <tr>\n",
       "      <th>1</th>\n",
       "      <td>H1kH6QZV7Le4zqTRNxoZow</td>\n",
       "      <td>RF6UnRTtG7tWMcrO2GEoAg</td>\n",
       "      <td>vcNAWiLM4dR7D2nwwJ7nCA</td>\n",
       "      <td>2</td>\n",
       "      <td>review</td>\n",
       "    </tr>\n",
       "    <tr>\n",
       "      <th>2</th>\n",
       "      <td>zvJCcrpm2yOZrxKffwGQLA</td>\n",
       "      <td>-TsVN230RCkLYKBeLsuz7A</td>\n",
       "      <td>vcNAWiLM4dR7D2nwwJ7nCA</td>\n",
       "      <td>4</td>\n",
       "      <td>review</td>\n",
       "    </tr>\n",
       "    <tr>\n",
       "      <th>3</th>\n",
       "      <td>KBLW4wJA_fwoWmMhiHRVOA</td>\n",
       "      <td>dNocEAyUucjT371NNND41Q</td>\n",
       "      <td>vcNAWiLM4dR7D2nwwJ7nCA</td>\n",
       "      <td>4</td>\n",
       "      <td>review</td>\n",
       "    </tr>\n",
       "    <tr>\n",
       "      <th>4</th>\n",
       "      <td>zvJCcrpm2yOZrxKffwGQLA</td>\n",
       "      <td>ebcN2aqmNUuYNoyvQErgnA</td>\n",
       "      <td>vcNAWiLM4dR7D2nwwJ7nCA</td>\n",
       "      <td>4</td>\n",
       "      <td>review</td>\n",
       "    </tr>\n",
       "  </tbody>\n",
       "</table>\n",
       "</div>"
      ],
      "text/plain": [
       "                  user_id               review_id             business_id  \\\n",
       "0  Xqd0DzHaiyRqVH3WRG7hzg  15SdjuK7DmYqUAj6rjGowg  vcNAWiLM4dR7D2nwwJ7nCA   \n",
       "1  H1kH6QZV7Le4zqTRNxoZow  RF6UnRTtG7tWMcrO2GEoAg  vcNAWiLM4dR7D2nwwJ7nCA   \n",
       "2  zvJCcrpm2yOZrxKffwGQLA  -TsVN230RCkLYKBeLsuz7A  vcNAWiLM4dR7D2nwwJ7nCA   \n",
       "3  KBLW4wJA_fwoWmMhiHRVOA  dNocEAyUucjT371NNND41Q  vcNAWiLM4dR7D2nwwJ7nCA   \n",
       "4  zvJCcrpm2yOZrxKffwGQLA  ebcN2aqmNUuYNoyvQErgnA  vcNAWiLM4dR7D2nwwJ7nCA   \n",
       "\n",
       "   stars    type  \n",
       "0      5  review  \n",
       "1      2  review  \n",
       "2      4  review  \n",
       "3      4  review  \n",
       "4      4  review  "
      ]
     },
     "execution_count": 35,
     "metadata": {},
     "output_type": "execute_result"
    }
   ],
   "source": [
    "yelp_cleaned = yelp_academic.drop(['text',\n",
    "                          'votes.useful',\n",
    "                          'votes.cool',\n",
    "                          'date',\n",
    "                          'votes.funny'], axis=1)\n",
    "yelp_cleaned.head()"
   ]
  },
  {
   "cell_type": "markdown",
   "metadata": {
    "colab_type": "text",
    "id": "rFpT0OM8VsfJ"
   },
   "source": [
    "## 3.2 合并数据\n",
    "合并业务数据`yelp_academic_dataset_business.csv`与评论数据`yelp_academic_dataset_review.csv`\n",
    "将业务数据和评论数据利用 'business_id' 为主键合并。像business的 'city' 和 'categories' 这样的信息是从业务数据文件中获取的。"
   ]
  },
  {
   "cell_type": "code",
   "execution_count": 36,
   "metadata": {
    "colab": {
     "base_uri": "https://localhost:8080/",
     "height": 204
    },
    "colab_type": "code",
    "id": "duASyTrjU2Qc",
    "outputId": "12b8495e-181a-40bc-cd35-e282a46928d7"
   },
   "outputs": [],
   "source": [
    "yelp_full = yelp_cleaned.merge(\n",
    "    yelp_business[['city',\n",
    "                   'categories',\n",
    "                   'business_id']], how='inner', on='business_id')\n",
    "\n",
    "df = yelp_full.dropna()"
   ]
  },
  {
   "cell_type": "markdown",
   "metadata": {
    "colab_type": "text",
    "id": "0mhkxFRUV421"
   },
   "source": [
    "## 3.3 获取评论数量最多的前30名业务类别和城市"
   ]
  },
  {
   "cell_type": "code",
   "execution_count": 37,
   "metadata": {
    "colab": {
     "base_uri": "https://localhost:8080/",
     "height": 727
    },
    "colab_type": "code",
    "id": "2H0c7qO7V7PO",
    "outputId": "18ab03b2-f949-4eaf-c9e5-ad8450417435"
   },
   "outputs": [
    {
     "data": {
      "image/png": "[encoded data removed]",
      "text/plain": [
       "<Figure size 1200x800 with 1 Axes>"
      ]
     },
     "metadata": {},
     "output_type": "display_data"
    }
   ],
   "source": [
    "fig, ax = plt.subplots(figsize=(12, 8))\n",
    "review_business_city = get_top_m_num_reviews_for_city_and_business(\n",
    "    df, 10)\n",
    "review_business_city[:30].plot(kind='bar', color=main_color[0], ax=ax)\n",
    "\n",
    "ax.set_xticklabels(\n",
    "    review_business_city[:30].index,\n",
    "    fontproperties=PingFang,\n",
    "    rotation=45, ha='right',\n",
    "    wrap=True, fontsize=8\n",
    ")\n",
    "ax.set_xlabel('城市-业务类别', fontproperties=PingFang)\n",
    "ax.set_ylabel('评论数量', fontproperties=PingFang)\n",
    "plt.tight_layout()\n",
    "plt.savefig('../images/04_获得评论最多的城市和商家类别组合.png', dpi=600)\n",
    "ax.set_title('获得评论最多的城市和商家类别组合（前30名）', fontproperties=PingFang, fontsize=16)\n",
    "plt.show()"
   ]
  },
  {
   "cell_type": "code",
   "execution_count": 38,
   "metadata": {},
   "outputs": [],
   "source": [
    "df.to_csv('../data/Yelp_final.csv', index=False)"
   ]
  }
 ],
 "metadata": {
  "accelerator": "GPU",
  "colab": {
   "collapsed_sections": [],
   "name": "Yelp Recommendation System.ipynb",
   "provenance": [],
   "version": "0.3.2"
  },
  "kernelspec": {
   "display_name": "Python 3 (ipykernel)",
   "language": "python",
   "name": "python3"
  },
  "language_info": {
   "codemirror_mode": {
    "name": "ipython",
    "version": 3
   },
   "file_extension": ".py",
   "mimetype": "text/x-python",
   "name": "python",
   "nbconvert_exporter": "python",
   "pygments_lexer": "ipython3",
   "version": "3.9.19"
  }
 },
 "nbformat": 4,
 "nbformat_minor": 4
}
