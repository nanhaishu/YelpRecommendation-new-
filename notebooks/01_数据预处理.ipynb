{
 "cells": [
  {
   "cell_type": "code",
   "execution_count": 1,
   "metadata": {
    "colab": {},
    "colab_type": "code",
    "id": "hinonm4y3-5Y"
   },
   "outputs": [],
   "source": [
    "import pandas as pd\n",
    "import numpy as np\n",
    "import json\n",
    "import sys\n",
    "sys.path.append('..')"
   ]
  },
  {
   "cell_type": "code",
   "execution_count": 17,
   "metadata": {},
   "outputs": [],
   "source": [
    "with open('../assets/yelp_academic.json', 'r') as file:\n",
    "    yelp_academic_info = json.load(file)\n",
    "\n",
    "with open('../assets/yelp_business.json', 'r') as file:\n",
    "    yelp_business_info = json.load(file)\n",
    "\n",
    "# 构建dtype字典\n",
    "yelp_academic_dtype = {key: value['type'] for key, value in yelp_academic_info.items()}\n",
    "yelp_business_dtype = {key: value['type'] for key, value in yelp_business_info.items()}"
   ]
  },
  {
   "cell_type": "code",
   "execution_count": 18,
   "metadata": {
    "colab": {
     "base_uri": "https://localhost:8080/",
     "height": 71
    },
    "colab_type": "code",
    "id": "5_VrpU45PCgf",
    "outputId": "1007993c-e176-4eb5-aad5-dcc62410ccdf"
   },
   "outputs": [],
   "source": [
    "yelp_academic = pd.read_csv(\n",
    "    '../data/yelp_academic_dataset_review.csv',\n",
    "    encoding='utf-8',\n",
    "    dtype=yelp_academic_dtype)\n",
    "\n",
    "yelp_business = pd.read_csv(\n",
    "    '../data/yelp_academic_dataset_business.csv',\n",
    "    encoding='utf-8',\n",
    "    dtype=yelp_business_dtype)"
   ]
  },
  {
   "cell_type": "markdown",
   "metadata": {
    "colab_type": "text",
    "id": "3WbQnnOuURQI"
   },
   "source": [
    "这里查看每个城市的不同种类数量"
   ]
  },
  {
   "cell_type": "code",
   "execution_count": null,
   "metadata": {
    "colab": {
     "base_uri": "https://localhost:8080/",
     "height": 361
    },
    "colab_type": "code",
    "id": "C9_pVWWwUDh_",
    "outputId": "5654eeb0-0908-4e52-909a-370090f13151"
   },
   "outputs": [],
   "source": [
    "import matplotlib.pyplot as plt\n",
    "from matplotlib.font_manager import FontProperties\n",
    "PingFang = FontProperties(fname='../assets/PingFang.ttc')\n",
    "plt.style.use('ggplot')"
   ]
  },
  {
   "cell_type": "code",
   "execution_count": null,
   "metadata": {},
   "outputs": [],
   "source": [
    "color_code = '#E5E5E5'\n",
    "palette_key = 'Twisted Spot Palette'\n",
    "\n",
    "try:\n",
    "    with open('../assets/Palette.json', 'r') as file:\n",
    "        data = json.load(file)\n",
    "    if color_code in data:\n",
    "        main_color = data[color_code].get(palette_key, [])\n",
    "        print(\"Main Color Palette:\", main_color)\n",
    "except FileNotFoundError:\n",
    "    ImportError(\"JSON文件格式不正确。\")\n",
    "except json.JSONDecodeError:\n",
    "    ImportError(\"JSON文件格式不正确。\")"
   ]
  },
  {
   "cell_type": "code",
   "execution_count": null,
   "metadata": {},
   "outputs": [],
   "source": [
    "# 按城市分组并计算商家数量\n",
    "yelp_business_groups = yelp_business.groupby('city').count()\n",
    "yelp_business_city = yelp_business_groups['name']\n",
    "yelp_business_city_sorted = yelp_business_city.sort_values(ascending=False)\n",
    "\n",
    "# 绘制前30个城市的柱状图\n",
    "ax = yelp_business_city_sorted[:30].plot(\n",
    "    kind='bar',  figsize=(12, 8), color=main_color[0])\n",
    "ax.set_xticklabels(\n",
    "    yelp_business_city_sorted[:30].index, fontproperties=PingFang, rotation=45, ha='right')\n",
    "\n",
    "ax.set_xlabel('城市', fontproperties=PingFang)\n",
    "ax.set_ylabel('商家数量', fontproperties=PingFang)\n",
    "plt.tight_layout()\n",
    "plt.savefig('../images/01_每个城市的商家数量.png', dpi=600)\n",
    "ax.set_title('每个城市的商家数量（前30名）', fontproperties=PingFang, fontsize=16)\n",
    "plt.show()"
   ]
  },
  {
   "cell_type": "markdown",
   "metadata": {
    "colab_type": "text",
    "id": "L1SpPg1WUXKe"
   },
   "source": [
    "查看不同类型的企业及其数量"
   ]
  },
  {
   "cell_type": "code",
   "execution_count": null,
   "metadata": {
    "colab": {
     "base_uri": "https://localhost:8080/",
     "height": 492
    },
    "colab_type": "code",
    "id": "qVybF8_VUUYd",
    "outputId": "f447c46b-f434-483a-b6f2-764e887fee51"
   },
   "outputs": [],
   "source": [
    "# 首先计算每个类别的出现次数\n",
    "categories_dict = {}\n",
    "for i in yelp_business.categories:\n",
    "    cat = str(i).split(',')\n",
    "    for j in cat:\n",
    "        if j not in categories_dict.keys():\n",
    "            categories_dict[j] = 1\n",
    "        else:\n",
    "            categories_dict[j] += 1\n",
    "\n",
    "categories_series = pd.Series(categories_dict)\n",
    "categories_series.sort_values(ascending=False, inplace=True)\n",
    "\n",
    "# 绘制前30个类别的柱状图\n",
    "ax = categories_series[:30].plot(\n",
    "    kind='bar', color=main_color[0], figsize=(12, 8))\n",
    "ax.set_xticklabels(\n",
    "    categories_series[:30].index, fontproperties=PingFang,\n",
    "    rotation=45, ha='right', wrap=True,\n",
    "    fontsize=8)\n",
    "\n",
    "\n",
    "ax.set_xlabel('类别', fontproperties=PingFang)\n",
    "ax.set_ylabel('数量', fontproperties=PingFang)\n",
    "plt.tight_layout()\n",
    "plt.savefig('../images/02_最受欢迎的商家类别.png', dpi=600)\n",
    "ax.set_title('最受欢迎的商家类别（前30名）', fontproperties=PingFang, fontsize=16)\n",
    "plt.show()"
   ]
  },
  {
   "cell_type": "markdown",
   "metadata": {
    "colab_type": "text",
    "id": "gkSALjqXUjd0"
   },
   "source": [
    "## 1.3. 商业和城市有序对及其计数"
   ]
  },
  {
   "cell_type": "code",
   "execution_count": null,
   "metadata": {
    "colab": {
     "base_uri": "https://localhost:8080/",
     "height": 552
    },
    "colab_type": "code",
    "id": "hPeDrWcHUbIi",
    "outputId": "74c62266-4f3f-4d0d-d807-a0cd2e686db0"
   },
   "outputs": [],
   "source": [
    "# 创建business_city字典，用于存储城市和分类的商家数量\n",
    "business_city = {}\n",
    "n = len(yelp_business)\n",
    "\n",
    "for i in range(n):\n",
    "    k1 = str(yelp_business.categories.iloc[i]).split(',')\n",
    "    k2 = yelp_business.city.iloc[i]\n",
    "    for j in k1:\n",
    "        k = (j, k2)\n",
    "        if k not in business_city.keys():\n",
    "            business_city[k] = 1\n",
    "        else:\n",
    "            business_city[k] += 1\n",
    "\n",
    "# 将字典转换为Series并排序\n",
    "business_city_series = pd.Series(business_city)\n",
    "business_city_series.sort_values(ascending=False, inplace=True)\n",
    "\n",
    "# 绘制前30个城市-分类的柱状图\n",
    "fig, ax = plt.subplots(figsize=(12, 8))\n",
    "business_city_series[:30].plot(kind='bar', color=main_color[0], ax=ax)\n",
    "\n",
    "ax.set_xticklabels(\n",
    "    business_city_series[:30].index,\n",
    "    fontproperties=PingFang,\n",
    "    rotation=45, ha='right',\n",
    "    wrap=True, fontsize=8)\n",
    "\n",
    "ax.set_xlabel('城市-分类', fontproperties=PingFang)\n",
    "ax.set_ylabel('商家数量', fontproperties=PingFang)\n",
    "plt.tight_layout()\n",
    "plt.savefig('../images/03_城市和商家类别组合数量.png', dpi=600)\n",
    "ax.set_title('城市和商家类别组合数量（前30名）', fontproperties=PingFang, fontsize=16)\n",
    "plt.show()"
   ]
  },
  {
   "cell_type": "markdown",
   "metadata": {
    "colab_type": "text",
    "id": "caXHhBuNUqzh"
   },
   "source": [
    "可以看出，Yelp 上列出的多数商家是餐馆、购物场所和娱乐中心。对于这组数据（来自 Yelp 网站），拥有最多商家的主要城市是`Las Vegas`, `Phoenix`,和`Scottsdale`。"
   ]
  },
  {
   "cell_type": "markdown",
   "metadata": {
    "colab_type": "text",
    "id": "89rO1bIJUyLR"
   },
   "source": [
    "# 2. 清理评论数据"
   ]
  },
  {
   "cell_type": "markdown",
   "metadata": {},
   "source": [
    "## 2.1 删除不需要的列\n",
    "- `text`: 评论文本,\n",
    "- `useful`: 认为有用的人数,\n",
    "- `date`: 日期\n",
    "\n",
    "剩下的列是 `user_id`, `business_id` 和 `stars`."
   ]
  },
  {
   "cell_type": "code",
   "execution_count": null,
   "metadata": {
    "colab": {
     "base_uri": "https://localhost:8080/",
     "height": 204
    },
    "colab_type": "code",
    "id": "EAmTEhqdUmLL",
    "outputId": "f79fcc02-d6e2-47eb-fbe6-43e3051d8834"
   },
   "outputs": [],
   "source": [
    "yelp_cleaned = yelp_academic.drop(['text',\n",
    "                          'votes.useful',\n",
    "                          'votes.cool',\n",
    "                          'date',\n",
    "                          'votes.funny'], axis=1)\n",
    "yelp_cleaned.head()"
   ]
  },
  {
   "cell_type": "markdown",
   "metadata": {
    "colab_type": "text",
    "id": "rFpT0OM8VsfJ"
   },
   "source": [
    "## 2.2 合并数据\n",
    "合并业务数据`yelp_academic_dataset_business.csv`与评论数据`yelp_academic_dataset_review.csv`"
   ]
  },
  {
   "cell_type": "markdown",
   "metadata": {
    "colab_type": "text",
    "id": "bbHyT0IDVvY8"
   },
   "source": [
    "将业务数据和评论数据利用 'business_id' 为主键合并。像business的 'city' 和 'categories' 这样的信息是从业务数据文件中获取的。"
   ]
  },
  {
   "cell_type": "code",
   "execution_count": null,
   "metadata": {
    "colab": {
     "base_uri": "https://localhost:8080/",
     "height": 204
    },
    "colab_type": "code",
    "id": "duASyTrjU2Qc",
    "outputId": "12b8495e-181a-40bc-cd35-e282a46928d7"
   },
   "outputs": [],
   "source": [
    "yelp_full = yelp_cleaned.merge(\n",
    "    yelp_business[['city',\n",
    "                   'categories',\n",
    "                   'business_id']], how='inner', on='business_id')\n",
    "\n",
    "df = yelp_full.dropna()"
   ]
  },
  {
   "cell_type": "markdown",
   "metadata": {
    "colab_type": "text",
    "id": "0mhkxFRUV421"
   },
   "source": [
    "## 2.3. 获取评论数量最多的前30名业务类别和城市"
   ]
  },
  {
   "cell_type": "code",
   "execution_count": null,
   "metadata": {
    "colab": {
     "base_uri": "https://localhost:8080/",
     "height": 727
    },
    "colab_type": "code",
    "id": "2H0c7qO7V7PO",
    "outputId": "18ab03b2-f949-4eaf-c9e5-ad8450417435"
   },
   "outputs": [],
   "source": [
    "fig, ax = plt.subplots(figsize=(12, 8))\n",
    "review_business_city = get_top_m_num_reviews_for_city_and_business(\n",
    "    df, 10)\n",
    "review_business_city[:30].plot(kind='bar', color=main_color[0], ax=ax)\n",
    "\n",
    "ax.set_xticklabels(\n",
    "    review_business_city[:30].index,\n",
    "    fontproperties=PingFang,\n",
    "    rotation=45, ha='right',\n",
    "    wrap=True, fontsize=8\n",
    ")\n",
    "ax.set_xlabel('城市-业务类别', fontproperties=PingFang)\n",
    "ax.set_ylabel('评论数量', fontproperties=PingFang)\n",
    "plt.tight_layout()\n",
    "plt.savefig('../images/04_获得评论最多的城市和商家类别组合.png', dpi=600)\n",
    "ax.set_title('获得评论最多的城市和商家类别组合（前30名）', fontproperties=PingFang, fontsize=16)\n",
    "plt.show()"
   ]
  },
  {
   "cell_type": "code",
   "execution_count": null,
   "metadata": {},
   "outputs": [],
   "source": [
    "df.to_csv('../data/Yelp_final.csv', index=False)"
   ]
  }
 ],
 "metadata": {
  "accelerator": "GPU",
  "colab": {
   "collapsed_sections": [],
   "name": "Yelp Recommendation System.ipynb",
   "provenance": [],
   "version": "0.3.2"
  },
  "kernelspec": {
   "display_name": "Python 3 (ipykernel)",
   "language": "python",
   "name": "python3"
  },
  "language_info": {
   "codemirror_mode": {
    "name": "ipython",
    "version": 3
   },
   "file_extension": ".py",
   "mimetype": "text/x-python",
   "name": "python",
   "nbconvert_exporter": "python",
   "pygments_lexer": "ipython3",
   "version": "3.9.19"
  }
 },
 "nbformat": 4,
 "nbformat_minor": 4
}
