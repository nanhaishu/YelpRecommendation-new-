{
 "cells": [
  {
   "cell_type": "code",
   "execution_count": null,
   "metadata": {},
   "outputs": [],
   "source": [
    "import pandas as pd\n",
    "from six.moves import cPickle\n",
    "import numpy as np\n",
    "from scipy.sparse import csr_matrix, lil_matrix\n",
    "from sklearn.decomposition import TruncatedSVD\n",
    "from scipy.sparse.linalg import svds\n",
    "from sklearn.metrics import mean_squared_error\n",
    "\n",
    "import sys\n",
    "sys.path.append('..')\n",
    "\n",
    "from src import *"
   ]
  },
  {
   "cell_type": "code",
   "execution_count": null,
   "metadata": {},
   "outputs": [],
   "source": [
    "# 设置主题色和ggplot模版\n",
    "import matplotlib.pyplot as plt\n",
    "from matplotlib.font_manager import FontProperties\n",
    "PingFang = FontProperties(fname='../assets/PingFang.ttc')\n",
    "plt.style.use('ggplot')\n",
    "plt_color = [\"#6A9A8B\", \"#00754B\"]\n"
   ]
  },
  {
   "cell_type": "code",
   "execution_count": null,
   "metadata": {
    "colab": {
     "base_uri": "https://localhost:8080/",
     "height": 727
    },
    "colab_type": "code",
    "id": "2H0c7qO7V7PO",
    "outputId": "18ab03b2-f949-4eaf-c9e5-ad8450417435"
   },
   "outputs": [],
   "source": [
    "path = '../data/Yelp_final.csv'\n",
    "\n",
    "yelp = pd.read_csv(path, encoding='utf-8')"
   ]
  },
  {
   "cell_type": "code",
   "execution_count": null,
   "metadata": {
    "colab": {
     "base_uri": "https://localhost:8080/",
     "height": 34
    },
    "colab_type": "code",
    "id": "rMf7UQm6V8_c",
    "outputId": "89933d39-9e59-4f8d-c643-8d48fbfe922f"
   },
   "outputs": [],
   "source": [
    "# 过滤出位于Phoenix的餐厅评论\n",
    "phoenix_restaurant_reviews = yelp[(yelp.city == 'Phoenix') &\n",
    "                                (yelp.categories.str.contains('.Restaurant.', case=False))]\n",
    "# 打印Phoenix餐厅评论的行列数\n",
    "print(\"Phoenix餐厅评论的行列数:\", phoenix_restaurant_reviews.shape)"
   ]
  },
  {
   "cell_type": "code",
   "execution_count": null,
   "metadata": {
    "colab": {
     "base_uri": "https://localhost:8080/",
     "height": 360
    },
    "colab_type": "code",
    "id": "wxymFwxcWSyA",
    "outputId": "00ae54f3-61c5-4454-9aa8-a1a27b0bcdb2"
   },
   "outputs": [],
   "source": [
    "# 获取Phoenix餐厅评论的清洁数据，用户至少有20条评论\n",
    "sparse_matrix_20_phx = get_sparse_matrix(get_clean_df(\n",
    "    phoenix_restaurant_reviews,\n",
    "    min_user_review=20,\n",
    "    cols=['user_id', 'business_id', 'stars']))\n",
    "\n",
    "# 获取Phoenix餐厅评论的清洁数据，用户至少有30条评论\n",
    "sparse_matrix_30_phx = get_sparse_matrix(get_clean_df(\n",
    "    phoenix_restaurant_reviews,\n",
    "    min_user_review=30,\n",
    "    cols=['user_id', 'business_id', 'stars']))"
   ]
  },
  {
   "cell_type": "code",
   "execution_count": null,
   "metadata": {},
   "outputs": [],
   "source": [
    "# 打印Phoenix餐厅评论数据的稀疏度，用户至少有20条评论\n",
    "print(\"用户至少有20条评论的稀疏度:\", get_sparsity(sparse_matrix_20_phx))\n",
    "print(\"用户至少有20条评论的矩阵形状:\", sparse_matrix_20_phx.shape)\n",
    "\n",
    "print()\n",
    "\n",
    "# 打印Phoenix餐厅评论数据的稀疏度，用户至少有30条评论\n",
    "print(\"用户至少有30条评论的稀疏度:\", get_sparsity(sparse_matrix_30_phx))\n",
    "print(\"用户至少有30条评论的矩阵形状:\", sparse_matrix_30_phx.shape)"
   ]
  },
  {
   "cell_type": "code",
   "execution_count": null,
   "metadata": {
    "colab": {
     "base_uri": "https://localhost:8080/",
     "height": 238
    },
    "colab_type": "code",
    "id": "aI6i1hIBWn2n",
    "outputId": "f2461265-a120-4ca2-b2a6-a403254de5ca"
   },
   "outputs": [],
   "source": [
    "# 获取每位用户至少有10条评论的Phoenix餐厅数据\n",
    "phoenix_reviews_min_10 = get_clean_df(phoenix_restaurant_reviews,\n",
    "                                      min_user_review=10,\n",
    "                                      cols=['user_id', 'business_id', 'stars'])\n",
    "print(\"Phoenix餐厅评论数:\", phoenix_reviews_min_10.shape[0])"
   ]
  },
  {
   "cell_type": "code",
   "execution_count": null,
   "metadata": {
    "colab": {
     "base_uri": "https://localhost:8080/",
     "height": 85
    },
    "colab_type": "code",
    "id": "mpMaqhxLWruc",
    "outputId": "5403d83f-f477-42c2-9c5f-ea6a5e2620eb"
   },
   "outputs": [],
   "source": [
    "# 打印Phoenix餐厅的唯一餐厅数和唯一用户数\n",
    "print(\"Phoenix唯一餐厅数 =\", len(phoenix_reviews_min_10.business_id.unique()))\n",
    "print(\"Phoenix唯一用户数 =\", len(phoenix_reviews_min_10.user_id.unique()))"
   ]
  },
  {
   "cell_type": "code",
   "execution_count": null,
   "metadata": {
    "colab": {
     "base_uri": "https://localhost:8080/",
     "height": 139
    },
    "colab_type": "code",
    "id": "ohdEAffMWuOw",
    "outputId": "829f499f-877f-408a-d461-357331e316c2"
   },
   "outputs": [],
   "source": [
    "# 获取Phoenix餐厅的稀疏矩阵\n",
    "phoenix_ratings_matrix = get_sparse_matrix(phoenix_reviews_min_10)\n",
    "print(\"Phoenix餐厅评分矩阵的形状 =\", phoenix_ratings_matrix.shape)"
   ]
  },
  {
   "cell_type": "code",
   "execution_count": null,
   "metadata": {
    "colab": {
     "base_uri": "https://localhost:8080/",
     "height": 51
    },
    "colab_type": "code",
    "id": "LJiEKSa5WyM7",
    "outputId": "79c02035-f3b8-4adc-e498-6955ee1480a6"
   },
   "outputs": [],
   "source": [
    "# 计算Phoenix餐厅评分矩阵的稀疏度\n",
    "sparsity_phoenix = 1 - phoenix_ratings_matrix.nnz / \\\n",
    "    (phoenix_ratings_matrix.shape[0] * phoenix_ratings_matrix.shape[1])\n",
    "print(\"Phoenix餐厅评分矩阵的稀疏度 =\", sparsity_phoenix)"
   ]
  },
  {
   "cell_type": "code",
   "execution_count": null,
   "metadata": {
    "colab": {
     "base_uri": "https://localhost:8080/",
     "height": 71
    },
    "colab_type": "code",
    "id": "yjmaCM80YUo8",
    "outputId": "7b71304b-377d-46b0-efd0-56ed73a36159"
   },
   "outputs": [],
   "source": [
    "# 处理Phoenix餐厅评分矩阵\n",
    "phoenix_train_matrix, phoenix_val_matrix, phoenix_test_matrix = train_val_test_split(\n",
    "    phoenix_ratings_matrix)\n",
    "print(\"Phoenix 训练集形状:\", phoenix_train_matrix.shape)\n",
    "print(\"Phoenix 验证集形状:\", phoenix_val_matrix.shape)\n",
    "print(\"Phoenix 测试集形状:\", phoenix_test_matrix.shape)"
   ]
  },
  {
   "cell_type": "code",
   "execution_count": null,
   "metadata": {
    "colab": {
     "base_uri": "https://localhost:8080/",
     "height": 71
    },
    "colab_type": "code",
    "id": "bQ0KsZ-tYqnI",
    "outputId": "845db714-c591-43c8-abec-5cb4568cd700"
   },
   "outputs": [],
   "source": [
    "# 将稀疏矩阵划分为训练集、验证集和测试集\n",
    "# 将包含至少20条评论的Phoenix用户数据划分\n",
    "phoenix_users_train, phoenix_users_val, phoenix_users_test = train_val_test_split(\n",
    "    sparse_matrix_20_phx, num_review_val=7, num_review_test=3\n",
    ")\n",
    "\n",
    "print(\"Phoenix 用户训练集形状:\", phoenix_users_train.shape)\n",
    "print(\"Phoenix 用户验证集形状:\", phoenix_users_val.shape)\n",
    "print(\"Phoenix 用户测试集形状:\", phoenix_users_test.shape)"
   ]
  },
  {
   "cell_type": "markdown",
   "metadata": {
    "colab_type": "text",
    "id": "4Jdbx5KCY2KZ"
   },
   "source": [
    "# 4. 模型构建:"
   ]
  },
  {
   "cell_type": "markdown",
   "metadata": {
    "colab_type": "text",
    "id": "_3sj3lM6Y6dZ"
   },
   "source": [
    "## 4.1 奇异值分解SVD"
   ]
  },
  {
   "cell_type": "code",
   "execution_count": null,
   "metadata": {
    "colab": {},
    "colab_type": "code",
    "id": "Gzqe7KJPYzfc"
   },
   "outputs": [],
   "source": [
    "# 对Phoenix餐厅的训练集矩阵进行SVD分解\n",
    "# SVD分解将矩阵分解为三个子矩阵 U、S 和 Vt\n",
    "U_phoenix_res, S_phoenix_res, Vt_phoenix_res = np.linalg.svd(\n",
    "    phoenix_train_matrix.todense())\n",
    "\n",
    "# 打印最小和最大的奇异值\n",
    "print(\"最小的奇异值 =\", min(S_phoenix_res))\n",
    "print(\"最大的奇异值 =\", max(S_phoenix_res))\n",
    "\n",
    "# 将奇异值对角化，创建对角矩阵\n",
    "S_phx_res_dia = np.diag(S_phoenix_res)"
   ]
  },
  {
   "cell_type": "code",
   "execution_count": null,
   "metadata": {
    "colab": {
     "base_uri": "https://localhost:8080/",
     "height": 349
    },
    "colab_type": "code",
    "id": "fpoFfBFGZHjM",
    "outputId": "2976e20b-575e-4cc4-9188-fb2714b03b11"
   },
   "outputs": [],
   "source": [
    "# 绘制凤凰城前20个奇异值\n",
    "plt.plot(S_phoenix_res[:20], '-', linewidth=2,\n",
    "         color=plt_color[1], label='奇异值')\n",
    "\n",
    "plt.xticks(np.arange(0, len(S_phoenix_res[:20]), 1), fontproperties=PingFang)\n",
    "plt.xlabel('主成分', fontproperties=PingFang, fontsize=12)\n",
    "plt.grid(True, linestyle='--', linewidth=0.5)\n",
    "plt.ylim(60, 240)\n",
    "plt.legend(prop=PingFang)\n",
    "plt.tight_layout()\n",
    "plt.savefig('../images/Phoenix/01_SVD奇异值分布_前20个主成分.png', dpi=600)\n",
    "plt.ylabel('奇异值', fontproperties=PingFang, fontsize=12)\n",
    "plt.title('Phoenix餐厅SVD奇异值分布（前20个主成分）', fontproperties=PingFang, fontsize=14)\n",
    "plt.show()"
   ]
  },
  {
   "cell_type": "code",
   "execution_count": null,
   "metadata": {
    "colab": {
     "base_uri": "https://localhost:8080/",
     "height": 296
    },
    "colab_type": "code",
    "id": "V7eZG9bFZvkf",
    "outputId": "1f5adf21-a267-4869-fe8e-b00df453cf50"
   },
   "outputs": [],
   "source": [
    "# 设置奇异值数量的范围\n",
    "num_singular_values_range = np.linspace(2, 40, 20, dtype=int)\n",
    "validation_errors = {}\n",
    "training_errors = {}\n",
    "\n",
    "# 计算训练集和验证集在不同奇异值数量下的误差\n",
    "for num_singular_values in num_singular_values_range:\n",
    "    validation_errors[num_singular_values] = compute_approximation_error(\n",
    "        num_singular_values, phoenix_val_matrix.todense(), U_phoenix_res, S_phx_res_dia, Vt_phoenix_res)\n",
    "    training_errors[num_singular_values] = compute_approximation_error(\n",
    "        num_singular_values, phoenix_train_matrix.todense(), U_phoenix_res, S_phx_res_dia, Vt_phoenix_res)\n",
    "\n",
    "# 绘制误差图\n",
    "plt.plot(validation_errors.keys(), validation_errors.values(),\n",
    "         label='验证集', color=plt_color[0])\n",
    "plt.plot(training_errors.keys(), training_errors.values(),\n",
    "         label='训练集', color=plt_color[1])\n",
    "plt.xlabel('奇异值数量 k', fontproperties=PingFang)\n",
    "plt.ylabel('均方误差 MSE', fontproperties=PingFang)\n",
    "plt.grid(True, linestyle='--', linewidth=0.5)\n",
    "plt.legend(prop=PingFang, loc='lower left')\n",
    "\n",
    "plt.tight_layout()\n",
    "plt.savefig('../images/Phoenix/02_不同奇异值数量下的训练集和验证集误差.png', dpi=600)\n",
    "plt.title('Phoenix不同奇异值数量下的训练和验证误差', fontproperties=PingFang, fontsize=14)\n",
    "plt.show()"
   ]
  },
  {
   "cell_type": "code",
   "execution_count": null,
   "metadata": {
    "colab": {
     "base_uri": "https://localhost:8080/",
     "height": 296
    },
    "colab_type": "code",
    "id": "VhWOw2JRZ1k-",
    "outputId": "35a88673-3365-4b19-b1e3-ff5d9b9239ed"
   },
   "outputs": [],
   "source": [
    "# 分别绘制验证集误差\n",
    "plt.plot(validation_errors.keys(), validation_errors.values(),\n",
    "         label='验证集', color=plt_color[0])\n",
    "\n",
    "# 设置坐标轴标签和图例\n",
    "plt.xlabel('奇异值数量 k', fontproperties=PingFang)\n",
    "plt.ylabel('均方误差 MSE', fontproperties=PingFang)\n",
    "plt.legend(prop=PingFang)\n",
    "\n",
    "plt.tight_layout()\n",
    "plt.savefig('../images/Phoenix/03_不同奇异值数量下验证集误差.png', dpi=600)\n",
    "plt.title('验证集误差随奇异值数量变化图', fontproperties=PingFang, fontsize=14)\n",
    "# 显示图像\n",
    "plt.show()"
   ]
  },
  {
   "cell_type": "code",
   "execution_count": null,
   "metadata": {
    "colab": {
     "base_uri": "https://localhost:8080/",
     "height": 296
    },
    "colab_type": "code",
    "id": "Yp1pxjNqZ4_w",
    "outputId": "4a6ffd10-1365-424f-e34f-7e3e90346657"
   },
   "outputs": [],
   "source": [
    "# 使用SVD结果中的前两个主成分绘制散点图\n",
    "plt.scatter(np.ravel(U_phoenix_res[:, 0]), np.ravel(\n",
    "    U_phoenix_res[:, 1]), label='观察点', color=plt_color[1], alpha=0.6)\n",
    "\n",
    "plt.xlabel('主成分 1', fontproperties=PingFang)\n",
    "plt.ylabel('主成分 2', fontproperties=PingFang)\n",
    "\n",
    "plt.legend(prop=PingFang)\n",
    "plt.tight_layout()\n",
    "plt.savefig('../images/Phoenix/04_前两个主成分散点图.png', dpi=600)\n",
    "\n",
    "# 设置标题\n",
    "plt.title('Phoenix餐厅数据的前两个主成分散点图', fontproperties=PingFang, fontsize=14)\n",
    "# 显示图像\n",
    "plt.show()"
   ]
  },
  {
   "cell_type": "markdown",
   "metadata": {
    "colab_type": "text",
    "id": "KEsVTXzdZ9Hc"
   },
   "source": [
    "### 4.1.1 计算SVD的最佳验证MSE\n",
    "计算在使用前10个奇异值进行近似重构时，Phoenix餐厅数据在验证集上的最佳均方误差（MSE）"
   ]
  },
  {
   "cell_type": "code",
   "execution_count": null,
   "metadata": {
    "colab": {
     "base_uri": "https://localhost:8080/",
     "height": 34
    },
    "colab_type": "code",
    "id": "AC4bTJF4Z7DG",
    "outputId": "d3f91500-045b-4c31-abde-2e519b297e95"
   },
   "outputs": [],
   "source": [
    "best_val_mse_svd_phx = compute_approximation_error(\n",
    "    10, phoenix_val_matrix.todense(), U_phoenix_res, S_phx_res_dia, Vt_phoenix_res)\n",
    "\n",
    "print('Phoenix餐厅使用SVD的最佳验证集均方误差 (MSE)= ', best_val_mse_svd_phx)"
   ]
  },
  {
   "cell_type": "code",
   "execution_count": null,
   "metadata": {
    "colab": {},
    "colab_type": "code",
    "id": "nb7izc3MZ_Yd"
   },
   "outputs": [],
   "source": [
    "# 获取Phoenix餐厅训练集、验证集和测试集中非零元素的索引\n",
    "\n",
    "# 训练集非零元素的索引\n",
    "train_nonzero_indices_phx = phoenix_train_matrix.nonzero()\n",
    "\n",
    "# 验证集非零元素的索引\n",
    "val_nonzero_indices_phx = phoenix_val_matrix.nonzero()\n",
    "\n",
    "# 测试集非零元素的索引\n",
    "test_nonzero_indices_phx = phoenix_test_matrix.nonzero()"
   ]
  },
  {
   "cell_type": "code",
   "execution_count": null,
   "metadata": {
    "colab": {},
    "colab_type": "code",
    "id": "e1i67AO9aEad"
   },
   "outputs": [],
   "source": [
    "# 使用前10个奇异值进行SVD重构，计算重构后的矩阵\n",
    "reconstructed_matrix_svd_phx = np.dot(U_phoenix_res[:, :10], np.dot(\n",
    "    S_phx_res_dia[:10, :10], Vt_phoenix_res[:10, :]))\n",
    "\n",
    "# 获取训练集、验证集和测试集在重构矩阵中的预测值\n",
    "train_predictions_svd_phx = np.ravel(\n",
    "    reconstructed_matrix_svd_phx[train_nonzero_indices_phx])\n",
    "val_predictions_svd_phx = np.ravel(\n",
    "    reconstructed_matrix_svd_phx[val_nonzero_indices_phx])\n",
    "test_predictions_svd_phx = np.ravel(\n",
    "    reconstructed_matrix_svd_phx[test_nonzero_indices_phx])"
   ]
  },
  {
   "cell_type": "markdown",
   "metadata": {
    "colab_type": "text",
    "id": "HY50MfJzdXNB"
   },
   "source": [
    "## SVD with bias correction"
   ]
  },
  {
   "cell_type": "code",
   "execution_count": null,
   "metadata": {
    "colab": {
     "base_uri": "https://localhost:8080/",
     "height": 51
    },
    "colab_type": "code",
    "id": "gPZzjYrLdFzK",
    "outputId": "52997a1c-f5fc-4350-ffbf-0937a03afcb2"
   },
   "outputs": [],
   "source": [
    "# 计算Phoenix餐厅训练矩阵的全局偏差\n",
    "global_bias = np.sum(phoenix_train_matrix) / phoenix_train_matrix.nnz\n",
    "\n",
    "# 去除全局偏差后的训练矩阵\n",
    "train_matrix_wo_bias_phx = phoenix_train_matrix.todense() - global_bias\n",
    "\n",
    "# 对去除偏差后的训练矩阵进行SVD分解\n",
    "U_phx_wo_bias, S_phx_wo_bias, Vt_phx_wo_bias = np.linalg.svd(\n",
    "    train_matrix_wo_bias_phx)\n",
    "\n",
    "# 打印最小和最大的奇异值\n",
    "print(\"最小的奇异值 =\", min(S_phx_wo_bias))\n",
    "print(\"最大的奇异值 =\", max(S_phx_wo_bias))\n",
    "\n",
    "# 将奇异值对角化，创建对角矩阵\n",
    "S_phx_diag_wo_bias = np.diag(S_phx_wo_bias)"
   ]
  },
  {
   "cell_type": "code",
   "execution_count": null,
   "metadata": {
    "colab": {
     "base_uri": "https://localhost:8080/",
     "height": 349
    },
    "colab_type": "code",
    "id": "pJJ1fUnNfGQ8",
    "outputId": "b2dc0c2c-98eb-4892-a8dc-4ce72c5d23f4"
   },
   "outputs": [],
   "source": [
    "# 绘制前1000个奇异值的Elbow图\n",
    "fig = plt.figure(figsize=(8, 5))\n",
    "plt.semilogy(S_phx_wo_bias[:1000], '-', linewidth=1, color=plt_color[1])\n",
    "plt.xlim(-20, 1020)\n",
    "plt.grid(True, linestyle='--', linewidth=0.5)\n",
    "plt.xlabel('主成分', fontproperties=PingFang)\n",
    "plt.ylabel('奇异值', fontproperties=PingFang)\n",
    "plt.tight_layout()\n",
    "plt.savefig('../images/Phoenix/05_去除偏差后的SVD_奇异值分布（前1000个）.png', dpi=600)\n",
    "plt.title('Phoenix去除偏差后的SVD奇异值分布（前1000个）', fontproperties=PingFang)\n",
    "plt.show()"
   ]
  },
  {
   "cell_type": "code",
   "execution_count": null,
   "metadata": {
    "colab": {
     "base_uri": "https://localhost:8080/",
     "height": 282
    },
    "colab_type": "code",
    "id": "yR3Zmp5XfJOz",
    "outputId": "a9f94e40-3205-4354-df62-a957b5a11231"
   },
   "outputs": [],
   "source": [
    "# 计算去除偏差后的SVD误差\n",
    "k_wo_bias = np.arange(1, 20)\n",
    "errors_svd_wo_bias = {}\n",
    "sm_u_10_phx_res_val_wo_bias = phoenix_val_matrix.todense() - global_bias\n",
    "\n",
    "for i in k_wo_bias:\n",
    "    sm_u_10_phx_res_val_wo_bias_rec = np.dot(U_phx_wo_bias[:, :i], np.dot(\n",
    "        S_phx_diag_wo_bias[:i, :i], Vt_phx_wo_bias[:i, :]))\n",
    "    idx_wo_bias = np.where(phoenix_val_matrix.todense() > 0)\n",
    "    diff_wo_bias = sm_u_10_phx_res_val_wo_bias[idx_wo_bias] - \\\n",
    "        sm_u_10_phx_res_val_wo_bias_rec[idx_wo_bias]\n",
    "    errors_svd_wo_bias[i] = np.linalg.norm(\n",
    "        diff_wo_bias)**2 / diff_wo_bias.shape[1]\n",
    "\n",
    "# 绘制误差图\n",
    "plt.plot(errors_svd_wo_bias.keys(),\n",
    "         errors_svd_wo_bias.values(), color=plt_color[0],\n",
    "         label='验证集')\n",
    "plt.xlabel('主成分数量', fontproperties=PingFang)\n",
    "plt.ylabel('均方误差 MSE', fontproperties=PingFang)\n",
    "plt.legend(prop=PingFang)\n",
    "plt.tight_layout()\n",
    "plt.savefig('../images/Phoenix/06_去除偏差后SVD_验证集重构误差.png', dpi=600)\n",
    "plt.title('Phoenix去除偏差后验证集的SVD误差', fontproperties=PingFang)\n",
    "plt.show()"
   ]
  },
  {
   "cell_type": "markdown",
   "metadata": {
    "colab_type": "text",
    "id": "-wWd4BYfdhne"
   },
   "source": [
    "## For Restaurants in Phoenix"
   ]
  },
  {
   "cell_type": "code",
   "execution_count": null,
   "metadata": {
    "colab": {
     "base_uri": "https://localhost:8080/",
     "height": 51
    },
    "colab_type": "code",
    "id": "QNDgW6fnddX5",
    "outputId": "788732db-2390-4d58-a482-2b857f7597a4"
   },
   "outputs": [],
   "source": [
    "# 计算Phoenix训练矩阵的用户和物品偏差，并去除偏差\n",
    "user_bias_phx, item_bias_phx, train_matrix_no_bias_phx = compute_global_user_item_bias(\n",
    "    phoenix_train_matrix)"
   ]
  },
  {
   "cell_type": "code",
   "execution_count": null,
   "metadata": {
    "colab": {
     "base_uri": "https://localhost:8080/",
     "height": 51
    },
    "colab_type": "code",
    "id": "XjlRRhxzeG4z",
    "outputId": "3f220ad8-2388-48f4-fa67-70f06059a5ed"
   },
   "outputs": [],
   "source": [
    "# 对去除偏差后的Phoenix训练矩阵进行SVD分解\n",
    "U_phx_no_bias, S_phx_no_bias, Vt_phx_no_bias = np.linalg.svd(\n",
    "    train_matrix_no_bias_phx)\n",
    "print(\"最小的奇异值 =\", min(S_phx_no_bias))\n",
    "print(\"最大的奇异值 =\", max(S_phx_no_bias))\n",
    "S_phx_diag_no_bias = np.diag(S_phx_no_bias)"
   ]
  },
  {
   "cell_type": "code",
   "execution_count": null,
   "metadata": {
    "colab": {
     "base_uri": "https://localhost:8080/",
     "height": 349
    },
    "colab_type": "code",
    "id": "S_VqXVP1fbAm",
    "outputId": "3c82f513-d5c7-4344-ed27-a89c84d4c24e"
   },
   "outputs": [],
   "source": [
    "# 绘制前20个奇异值的折线图\n",
    "fig = plt.figure(figsize=(8, 5))\n",
    "plt.plot(S_phx_no_bias[:20], '-', linewidth=1, color=plt_color[1])\n",
    "\n",
    "plt.xlabel('主成分', fontproperties=PingFang)\n",
    "plt.ylabel('奇异值', fontproperties=PingFang)\n",
    "\n",
    "# 保存图像，设置dpi=600\n",
    "plt.tight_layout()\n",
    "plt.savefig('../images/Phoenix/07_去除偏差后的SVD_奇异值分布.png', dpi=600)\n",
    "plt.title('Phoenix餐厅去除偏差后的SVD奇异值分布（前20个）', fontproperties=PingFang)\n",
    "# 显示图形\n",
    "plt.show()"
   ]
  },
  {
   "cell_type": "code",
   "execution_count": null,
   "metadata": {
    "colab": {
     "base_uri": "https://localhost:8080/",
     "height": 296
    },
    "colab_type": "code",
    "id": "eJ_qIG52fdVM",
    "outputId": "fa92cc3f-c566-4ca7-a2e7-5fc28732428b"
   },
   "outputs": [],
   "source": [
    "num_components_wo_bias = np.linspace(2, 40, 20, dtype=int)\n",
    "errors_svd_no_bias = {}\n",
    "val_matrix_no_bias_phx = phoenix_val_matrix.todense() - user_bias_phx - \\\n",
    "    item_bias_phx\n",
    "# 计算去除偏差后的SVD误差\n",
    "for k in num_components_wo_bias:\n",
    "    reconstructed_val_matrix_no_bias = np.dot(U_phx_no_bias[:, :k], np.dot(\n",
    "        S_phx_diag_no_bias[:k, :k], Vt_phx_no_bias[:k, :]))\n",
    "    non_zero_indices_no_bias = np.where(phoenix_val_matrix.todense() > 0)\n",
    "    diff_no_bias = val_matrix_no_bias_phx[non_zero_indices_no_bias] - \\\n",
    "        reconstructed_val_matrix_no_bias[non_zero_indices_no_bias]\n",
    "    errors_svd_no_bias[k] = np.linalg.norm(\n",
    "        diff_no_bias)**2 / diff_no_bias.shape[1]\n",
    "\n",
    "# 绘制去除偏差后的SVD误差图\n",
    "plt.plot(errors_svd_no_bias.keys(), errors_svd_no_bias.values(),\n",
    "         label='验证集', color=plt_color[0])\n",
    "plt.xlabel('主成分数量', fontproperties=PingFang)\n",
    "plt.ylabel('均方误差 MSE', fontproperties=PingFang)\n",
    "\n",
    "plt.legend(prop=PingFang)\n",
    "\n",
    "# 保存图像，设置dpi=600\n",
    "plt.tight_layout()\n",
    "plt.savefig('../images/Phoenix/08_去除偏差后的SVD_验证集重构误差.png', dpi=600)\n",
    "plt.title('去除偏差后的SVD误差', fontproperties=PingFang, fontsize=14)\n",
    "# 显示图形\n",
    "plt.show()"
   ]
  },
  {
   "cell_type": "markdown",
   "metadata": {
    "colab_type": "text",
    "id": "2KLkySrWhQ5S"
   },
   "source": [
    "## 4.2 修正偏差的余弦相似度"
   ]
  },
  {
   "cell_type": "code",
   "execution_count": null,
   "metadata": {
    "colab": {
     "base_uri": "https://localhost:8080/",
     "height": 34
    },
    "colab_type": "code",
    "id": "PLmbPLJJhXUR",
    "outputId": "399684dd-1a12-4363-ebc0-09b52d9afc7a"
   },
   "outputs": [],
   "source": [
    "# 计算餐厅相似度矩阵\n",
    "simi_phx_res = compute_similarity_matrix(phoenix_train_matrix, axis='res')\n",
    "simi_phx_res = np.array(simi_phx_res)\n",
    "\n",
    "# 预测餐厅相似度的评分\n",
    "preds_cosine_phx = predict_top_k(\n",
    "    np.array(phoenix_train_matrix.todense()), simi_phx_res, kind='res', k=1)\n",
    "\n",
    "# 计算餐厅相似度的均方误差\n",
    "MSE_cosine_res = calculate_mse(\n",
    "    preds_cosine_phx, np.array(phoenix_val_matrix.todense()))\n",
    "print(\"餐厅间余弦相似度的MSE =\", MSE_cosine_res)"
   ]
  },
  {
   "cell_type": "code",
   "execution_count": null,
   "metadata": {
    "colab": {
     "base_uri": "https://localhost:8080/",
     "height": 34
    },
    "colab_type": "code",
    "id": "I05_qqHGhbmI",
    "outputId": "7bf25815-b49e-4964-f2bf-dd510bc8ae19"
   },
   "outputs": [],
   "source": [
    "# 计算用户相似度矩阵\n",
    "simi_phx_users = compute_similarity_matrix(phoenix_train_matrix, axis='users')\n",
    "simi_phx_users = np.array(simi_phx_users)\n",
    "\n",
    "# 预测用户相似度的评分\n",
    "preds_cosine_phx_users = predict_top_k(\n",
    "    np.array(phoenix_train_matrix.todense()), simi_phx_users, kind='user', k=1)\n",
    "\n",
    "# 计算用户相似度的均方误差\n",
    "MSE_cosine_users = calculate_mse(\n",
    "    preds_cosine_phx_users, np.array(phoenix_val_matrix.todense()))\n",
    "print(\"用户间余弦相似度的MSE =\", MSE_cosine_users)"
   ]
  },
  {
   "cell_type": "code",
   "execution_count": null,
   "metadata": {
    "colab": {
     "base_uri": "https://localhost:8080/",
     "height": 311
    },
    "colab_type": "code",
    "id": "EtNmi_p2hfiY",
    "outputId": "c4d9442a-f92e-4717-d810-c8f17cb1d27b"
   },
   "outputs": [],
   "source": [
    "# 定义空字典存储不同K值下的验证集和训练集误差\n",
    "errors_cs_res_phx_val = {}\n",
    "errors_cs_res_phx_train = {}\n",
    "\n",
    "# 定义K值的范围\n",
    "k_cs = np.arange(1, 40)\n",
    "\n",
    "# 遍历每个K值，计算预测的均方误差（MSE）\n",
    "for i in k_cs:\n",
    "    # 使用余弦相似性对Phoenix餐厅的评分数据进行预测\n",
    "    preds_cs_res_phx = predict_top_k(\n",
    "        np.array(phoenix_train_matrix.todense()), simi_phx_res, kind='res', k=i)\n",
    "\n",
    "    # 计算验证集和训练集的均方误差\n",
    "    error_cs_val = calculate_mse(\n",
    "        preds_cs_res_phx, np.array(phoenix_val_matrix.todense()))\n",
    "    error_cs_train = calculate_mse(\n",
    "        preds_cs_res_phx, np.array(phoenix_train_matrix.todense()))\n",
    "\n",
    "    # 将计算结果存储到字典中\n",
    "    errors_cs_res_phx_val[i] = error_cs_val\n",
    "    errors_cs_res_phx_train[i] = error_cs_train\n",
    "\n",
    "# 绘制K值与均方误差的关系图\n",
    "plt.plot(errors_cs_res_phx_val.keys(),\n",
    "         errors_cs_res_phx_val.values(), label='验证集', color=plt_color[0])\n",
    "plt.plot(errors_cs_res_phx_train.keys(),\n",
    "         errors_cs_res_phx_train.values(), label='训练集', color=plt_color[1])\n",
    "\n",
    "\n",
    "plt.xlabel('邻近用户或物品的数量 K', fontproperties=PingFang)\n",
    "plt.ylabel('均方误差 MSE', fontproperties=PingFang)\n",
    "plt.legend(prop=PingFang)\n",
    "plt.tight_layout()\n",
    "plt.savefig('../images/Phoenix/09_余弦相似度模型_不同K值对评分预测MSE的影响.png', dpi=600)\n",
    "plt.title('余弦相似度下不同K值对Phoenix餐厅评分预测MSE的影响', fontproperties=PingFang)\n",
    "\n",
    "plt.show()"
   ]
  },
  {
   "cell_type": "code",
   "execution_count": null,
   "metadata": {
    "colab": {
     "base_uri": "https://localhost:8080/",
     "height": 34
    },
    "colab_type": "code",
    "id": "3X8K9fhXhnaT",
    "outputId": "caad7d59-786c-44bc-f042-eef892d37b2a"
   },
   "outputs": [],
   "source": [
    "# 使用余弦相似度和最优K值（40）对Phoenix餐厅的评分数据进行预测\n",
    "preds_cosine_phx = predict_top_k(\n",
    "    np.array(phoenix_train_matrix.todense()), simi_phx_res, kind='res', k=40)\n",
    "\n",
    "# 计算使用余弦相似度得到的预测结果在验证集上的均方误差 (MSE)\n",
    "Best_Val_MSE_Cosine_phx = calculate_mse(\n",
    "    preds_cosine_phx, np.array(phoenix_val_matrix.todense()))\n",
    "\n",
    "# 打印余弦相似度在Phoenix餐厅验证集上的最佳MSE结果\n",
    "print('Phoenix餐厅余弦相似性模型在K=40时的最佳验证集MSE为 = ',\n",
    "      Best_Val_MSE_Cosine_phx)"
   ]
  },
  {
   "cell_type": "code",
   "execution_count": null,
   "metadata": {
    "colab": {},
    "colab_type": "code",
    "id": "vrQYQ-V-iEa7"
   },
   "outputs": [],
   "source": [
    "train_preds_cosine_phx = preds_cosine_phx[train_nonzero_indices_phx]\n",
    "val_preds_cosine_phx = preds_cosine_phx[val_nonzero_indices_phx]\n",
    "test_preds_cosine_phx = preds_cosine_phx[test_nonzero_indices_phx]"
   ]
  },
  {
   "cell_type": "markdown",
   "metadata": {
    "colab_type": "text",
    "id": "Ognjbbasj-JJ"
   },
   "source": [
    "\n",
    "## 3.3 ALS:"
   ]
  },
  {
   "cell_type": "code",
   "execution_count": null,
   "metadata": {
    "colab": {
     "base_uri": "https://localhost:8080/",
     "height": 366
    },
    "colab_type": "code",
    "id": "U8uLchHykZrl",
    "outputId": "f72c6c9c-e378-441e-af0c-c559da5e7452"
   },
   "outputs": [],
   "source": [
    "# 初始化不同的特征数量和存储误差的列表\n",
    "num_features = np.linspace(1, 20, 5, dtype=int)\n",
    "test_error_als = []\n",
    "train_error_als = []\n",
    "\n",
    "# 遍历不同的特征数量\n",
    "for i in num_features:\n",
    "    # 使用交替最小二乘法（ALS）进行预测\n",
    "    preds_als = als(np.array(phoenix_train_matrix.todense()),\n",
    "                    num_features=i, iterations=5)\n",
    "\n",
    "    # 计算验证集和训练集的均方误差\n",
    "    test_err = calculate_mse(preds_als, np.array(phoenix_val_matrix.todense()))\n",
    "    train_err = calculate_mse(\n",
    "        preds_als, np.array(phoenix_train_matrix.todense()))\n",
    "\n",
    "    # 将误差添加到列表中\n",
    "    test_error_als.append(test_err)\n",
    "    train_error_als.append(train_err)\n",
    "\n",
    "# 创建图表并设置大小\n",
    "fig = plt.figure(figsize=(8, 5))\n",
    "\n",
    "# 绘制特征数量与均方误差的关系\n",
    "plt.plot(num_features, test_error_als, label='验证集', color=plt_color[0])\n",
    "plt.plot(num_features, train_error_als, label='训练集', color=plt_color[1])\n",
    "\n",
    "\n",
    "plt.xlabel('特征向量中的特征数量', fontproperties=PingFang)\n",
    "plt.ylabel('均方误差 MSE', fontproperties=PingFang)\n",
    "\n",
    "plt.legend(prop=PingFang)\n",
    "plt.tight_layout()\n",
    "plt.savefig('../images/Phoenix/10_ALS_特征数量与均方误差的关系.png', dpi=600)\n",
    "plt.title('Phoenix餐厅特征数量与均方误差的关系（ALS）', fontproperties=PingFang)\n",
    "plt.show()"
   ]
  },
  {
   "cell_type": "code",
   "execution_count": null,
   "metadata": {
    "colab": {
     "base_uri": "https://localhost:8080/",
     "height": 366
    },
    "colab_type": "code",
    "id": "yKrPs9i1kfPC",
    "outputId": "f85d3532-d348-490e-b02a-2c241d3077c6"
   },
   "outputs": [],
   "source": [
    "# 生成对数等比数列，用于正则化参数的测试\n",
    "user_reg = np.logspace(-4, 3, 7)\n",
    "val_error_als = {}  # 初始化存储验证集误差的字典\n",
    "\n",
    "# 创建图形对象，并设置图形大小\n",
    "fig = plt.figure(figsize=(8, 5))\n",
    "\n",
    "# 遍历不同的正则化参数\n",
    "for i in user_reg:\n",
    "    # 初始化当前正则化参数下的验证集误差列表\n",
    "    val_error_als[i] = []\n",
    "\n",
    "    # 使用ALS算法进行预测，同时应用相同的正则化参数于用户和物品\n",
    "    preds_als = als(np.array(phoenix_train_matrix.todense()), num_features=10,\n",
    "                    iterations=5, user_regularization=i, item_regularization=i)\n",
    "\n",
    "    # 计算并存储验证集的均方误差\n",
    "    val_err = calculate_mse(preds_als, np.array(phoenix_val_matrix.todense()))\n",
    "    val_error_als[i].append(val_err)\n",
    "\n",
    "# 绘制正则化参数（对数尺度）与MSE的关系图\n",
    "plt.plot(np.log10(user_reg), [\n",
    "         errors[0] for errors in val_error_als.values()], label='验证集MSE', color=plt_color[0])\n",
    "\n",
    "\n",
    "plt.xlabel('正则化系数（对数尺度）', fontproperties=PingFang)\n",
    "plt.ylabel('均方误差 MSE', fontproperties=PingFang)\n",
    "\n",
    "plt.legend(prop=PingFang)\n",
    "plt.tight_layout()\n",
    "plt.savefig('../images/Phoenix/11_ALS_正则化系数对MSE的影响.png', dpi=600)\n",
    "plt.title('Phoenix餐厅正则化系数对MSE的影响', fontproperties=PingFang)\n",
    "plt.show()"
   ]
  },
  {
   "cell_type": "code",
   "execution_count": null,
   "metadata": {
    "colab": {
     "base_uri": "https://localhost:8080/",
     "height": 34
    },
    "colab_type": "code",
    "id": "welas3J8khhQ",
    "outputId": "35142965-77a5-46c8-9c84-f62a9cab5878"
   },
   "outputs": [],
   "source": [
    "# 调用ALS函数，设置特征数量为10，迭代次数为5，以及用户和物品的正则化参数均为0.001\n",
    "preds_als_phx = als(np.array(phoenix_train_matrix.todense()), num_features=10,\n",
    "                    iterations=5, user_regularization=0.001, item_regularization=0.001)\n",
    "\n",
    "# 使用calculate_mse函数计算验证集的均方误差\n",
    "Best_Val_MSE_als_phx = calculate_mse(\n",
    "    preds_als_phx, np.array(phoenix_val_matrix.todense()))\n",
    "\n",
    "# 打印验证集的最佳均方误差\n",
    "print('Phoenix餐厅ALS模型的最佳验证均方误差为：', Best_Val_MSE_als_phx)"
   ]
  },
  {
   "cell_type": "code",
   "execution_count": null,
   "metadata": {
    "colab": {},
    "colab_type": "code",
    "id": "ZH_vE1hskkPD"
   },
   "outputs": [],
   "source": [
    "train_preds_als_phx = preds_als_phx[train_nonzero_indices_phx]\n",
    "val_preds_als_phx = preds_als_phx[val_nonzero_indices_phx]\n",
    "test_preds_als_phx = preds_als_phx[test_nonzero_indices_phx]"
   ]
  },
  {
   "cell_type": "markdown",
   "metadata": {
    "colab_type": "text",
    "id": "ZgK6I21ll8bH"
   },
   "source": [
    "## 3.4 带偏差修正的随机梯度下降"
   ]
  },
  {
   "cell_type": "code",
   "execution_count": null,
   "metadata": {
    "colab": {
     "base_uri": "https://localhost:8080/",
     "height": 434
    },
    "colab_type": "code",
    "id": "qXxmcN5JmIiG",
    "outputId": "83973a1c-75f9-4503-bcdb-5f7b3590f550"
   },
   "outputs": [],
   "source": [
    "# 定义迭代次数范围从10到50，步长为10\n",
    "iters = np.arange(10, 50, 10)\n",
    "err_sgd_test = []  # 存储验证集的错误率\n",
    "err_sgd_train = []  # 存储训练集的错误率\n",
    "\n",
    "# 遍历不同的迭代次数，需要调整 Iters 超参数\n",
    "for i in iters:\n",
    "    print('当前迭代次数 = ', i)\n",
    "\n",
    "    # 使用带偏差校正的SGD进行模型训练\n",
    "    preds_sgd = sgd_with_bias_correction(\n",
    "        np.array(phoenix_train_matrix.todense()), num_features=10, iterations=i)\n",
    "\n",
    "    # 计算验证集和训练集的均方误差\n",
    "    err_test = calculate_mse(\n",
    "        preds_sgd[0], np.array(phoenix_val_matrix.todense()))\n",
    "    err_train = calculate_mse(\n",
    "        preds_sgd[0], np.array(phoenix_train_matrix.todense()))\n",
    "\n",
    "    # 将结果添加到列表中\n",
    "    err_sgd_test.append(err_test)\n",
    "    err_sgd_train.append(err_train)\n",
    "\n",
    "\n",
    "# 绘制迭代次数与MSE的关系图\n",
    "plt.plot(iters, err_sgd_test, label='验证集', color=plt_color[0])\n",
    "plt.plot(iters, err_sgd_train, label='训练集', color=plt_color[1])\n",
    "\n",
    "plt.xlabel('迭代次数 iteration', fontproperties=PingFang)\n",
    "plt.ylabel('均方误差 MSE', fontproperties=PingFang)\n",
    "plt.legend(prop=PingFang)\n",
    "plt.tight_layout()\n",
    "plt.savefig('../images/Phoenix/12_带偏差修正的SGD_MSE与迭代次数的关系.png', dpi=600)\n",
    "plt.title('Phoenix餐厅中带偏差修正的SGD模型中迭代次数对MSE的影响', fontproperties=PingFang)\n",
    "\n",
    "plt.show()"
   ]
  },
  {
   "cell_type": "code",
   "execution_count": null,
   "metadata": {
    "colab": {
     "base_uri": "https://localhost:8080/",
     "height": 536
    },
    "colab_type": "code",
    "id": "WCXbdKnAme77",
    "outputId": "597ba3aa-eb52-4976-ebf2-76c97460c21e"
   },
   "outputs": [],
   "source": [
    "# 定义特征数量的范围\n",
    "k = np.linspace(2, 15, 10, dtype=int)\n",
    "err_sgd_test = []  # 存储验证集的误差\n",
    "err_sgd_train = []  # 存储训练集的误差\n",
    "\n",
    "# 遍历不同的特征数量\n",
    "for i in k:\n",
    "    print('当前特征数量 k = ', i)\n",
    "\n",
    "    # 使用带偏差校正的SGD进行模型训练\n",
    "    preds_sgd = sgd_with_bias_correction(\n",
    "        np.array(phoenix_train_matrix.todense()), num_features=i, iterations=20)\n",
    "\n",
    "    # 计算验证集和训续练集的均方误差\n",
    "    err_test = calculate_mse(\n",
    "        preds_sgd[0], np.array(phoenix_val_matrix.todense()))\n",
    "    err_train = calculate_mse(\n",
    "        preds_sgd[0], np.array(phoenix_train_matrix.todense()))\n",
    "\n",
    "    # 将结果添加到列表中\n",
    "    err_sgd_test.append(err_test)\n",
    "    err_sgd_train.append(err_train)\n",
    "\n",
    "# 创建图形对象并设置图形大小\n",
    "fig = plt.figure(figsize=(8, 5))\n",
    "\n",
    "# 绘制特征数量与MSE的关系图\n",
    "plt.plot(k, err_sgd_test,  label='验证集', color=plt_color[0])\n",
    "plt.plot(k, err_sgd_train, label='训练集', color=plt_color[1])\n",
    "\n",
    "# 设置图表的标题和坐标轴标签\n",
    "\n",
    "plt.xlabel('特征数量 k', fontproperties=PingFang)\n",
    "plt.ylabel('均方误差 MSE', fontproperties=PingFang)\n",
    "\n",
    "plt.legend(prop=PingFang)\n",
    "plt.tight_layout()\n",
    "plt.savefig('../images/Phoenix/13_带偏差修正的SGD_特征数量与MSE关系.png', dpi=600)\n",
    "plt.title('Phoenix餐厅中SGD模型的特征数量对MSE的影响', fontproperties=PingFang)\n",
    "plt.show()"
   ]
  },
  {
   "cell_type": "code",
   "execution_count": null,
   "metadata": {
    "colab": {},
    "colab_type": "code",
    "id": "PFtsCbr8mqJh"
   },
   "outputs": [],
   "source": [
    "# 使用带偏差校正的SGD训练模型，特征数量为2，迭代次数为20\n",
    "predictions_sgd_phx, error_array_sgd_phx, user_vec_sgd_phx, res_vec_sgd_phx = sgd_with_bias_correction(\n",
    "    np.array(phoenix_train_matrix.todense()), num_features=2, iterations=20)"
   ]
  },
  {
   "cell_type": "code",
   "execution_count": null,
   "metadata": {
    "colab": {
     "base_uri": "https://localhost:8080/",
     "height": 34
    },
    "colab_type": "code",
    "id": "8h14nDjGmsHW",
    "outputId": "c334df79-acb2-4160-e330-723b7686b73d"
   },
   "outputs": [],
   "source": [
    "# 重新调用SGD函数，以确保获得预测结果\n",
    "preds_sgd_phx = sgd_with_bias_correction(\n",
    "    np.array(phoenix_train_matrix.todense()), num_features=2, iterations=20)\n",
    "\n",
    "# 计算验证集的均方误差\n",
    "Best_Val_MSE_sgd_phx = calculate_mse(\n",
    "    preds_sgd_phx[0], np.array(phoenix_val_matrix.todense()))\n",
    "\n",
    "# 打印验证集上的最佳均方误差\n",
    "print('Phoenix餐厅SGD模型的最佳验证均方误差为：', Best_Val_MSE_sgd_phx)"
   ]
  },
  {
   "cell_type": "code",
   "execution_count": null,
   "metadata": {
    "colab": {},
    "colab_type": "code",
    "id": "Bf6CxYKWmvCN"
   },
   "outputs": [],
   "source": [
    "train_preds_sgd_phx = preds_sgd_phx[0][train_nonzero_indices_phx]\n",
    "val_preds_sgd_phx = preds_sgd_phx[0][val_nonzero_indices_phx]\n",
    "test_preds_sgd_phx = preds_sgd_phx[0][test_nonzero_indices_phx]"
   ]
  },
  {
   "cell_type": "markdown",
   "metadata": {
    "colab_type": "text",
    "id": "-Jvs0vU5ove_"
   },
   "source": [
    "## 将矩阵补全问题转换为回归问题"
   ]
  },
  {
   "cell_type": "code",
   "execution_count": null,
   "metadata": {
    "colab": {},
    "colab_type": "code",
    "id": "3rnBF03yoysT"
   },
   "outputs": [],
   "source": [
    "train_phx = concatenate_user_item_vectors(\n",
    "    user_vec_sgd_phx, res_vec_sgd_phx, phoenix_train_matrix)\n",
    "val_phx = concatenate_user_item_vectors(\n",
    "    user_vec_sgd_phx, res_vec_sgd_phx, phoenix_val_matrix)\n",
    "test_phx = concatenate_user_item_vectors(\n",
    "    user_vec_sgd_phx, res_vec_sgd_phx, phoenix_test_matrix)"
   ]
  },
  {
   "cell_type": "markdown",
   "metadata": {
    "colab_type": "text",
    "id": "q5-I2Z37qHi4"
   },
   "source": [
    "## Random Forest Regressor"
   ]
  },
  {
   "cell_type": "code",
   "execution_count": null,
   "metadata": {
    "colab": {},
    "colab_type": "code",
    "id": "F43FFsH-q70P"
   },
   "outputs": [],
   "source": [
    "train_mat_phx = np.array(train_phx)\n",
    "val_mat_phx = np.array(val_phx)\n",
    "test_mat_phx = np.array(test_phx)\n",
    "x_train, y_train = train_mat_phx[:, :-1], np.ravel(train_mat_phx[:, -1])\n",
    "x_val, y_val = val_mat_phx[:, :-1], np.ravel(val_mat_phx[:, -1])"
   ]
  },
  {
   "cell_type": "code",
   "execution_count": null,
   "metadata": {
    "colab": {
     "base_uri": "https://localhost:8080/",
     "height": 88
    },
    "colab_type": "code",
    "id": "b2diCjRfpPwp",
    "outputId": "a692eae8-2240-4a47-8efa-469fa595d1c2"
   },
   "outputs": [],
   "source": [
    "from sklearn.ensemble import RandomForestRegressor\n",
    "rf = RandomForestRegressor(max_depth=5)\n",
    "rf.fit(train_mat_phx[:, :4], train_mat_phx[:, 4])\n",
    "preds_rf_phx = rf.predict(val_mat_phx[:, :4]).reshape(-1, 1)\n",
    "MSE_rf_phx = calculate_mse(preds_rf_phx, val_mat_phx[:, 4])\n",
    "print('MSE for Random Forest Classifier for Restaurants in Phoenix = ', MSE_rf_phx)"
   ]
  },
  {
   "cell_type": "code",
   "execution_count": null,
   "metadata": {
    "colab": {},
    "colab_type": "code",
    "id": "3UgqkZKjqMal"
   },
   "outputs": [],
   "source": [
    "train_preds_rf_phx = rf.predict(train_mat_phx[:, :4])\n",
    "val_preds_rf_phx = rf.predict(val_mat_phx[:, :4])\n",
    "test_preds_rf_phx = rf.predict(test_mat_phx[:, :4])"
   ]
  },
  {
   "cell_type": "markdown",
   "metadata": {
    "colab_type": "text",
    "id": "V_LjwaiQrk0y"
   },
   "source": [
    "## Ensemble of all the Predictors (SVD, Cosine Model, ALS, SGD, RF)"
   ]
  },
  {
   "cell_type": "code",
   "execution_count": null,
   "metadata": {
    "colab": {
     "base_uri": "https://localhost:8080/",
     "height": 34
    },
    "colab_type": "code",
    "id": "IavpQgzorfcq",
    "outputId": "aea0bafd-2df1-463c-9b98-ec7cbfb34110"
   },
   "outputs": [],
   "source": [
    "train_predictions_svd_phx.shape"
   ]
  },
  {
   "cell_type": "code",
   "execution_count": null,
   "metadata": {
    "colab": {},
    "colab_type": "code",
    "id": "3B6hDK-Cro2b"
   },
   "outputs": [],
   "source": [
    "from sklearn.linear_model import LinearRegression"
   ]
  },
  {
   "cell_type": "code",
   "execution_count": null,
   "metadata": {
    "colab": {},
    "colab_type": "code",
    "id": "HQTu4H7Srthv"
   },
   "outputs": [],
   "source": [
    "ensemble_training_phx_df = build_ensemble_dataframe(\n",
    "    train_predictions_svd_phx, train_preds_cosine_phx, train_preds_als_phx, train_preds_sgd_phx, train_preds_rf_phx)\n",
    "ensemble_validation_phx_df = build_ensemble_dataframe(\n",
    "    val_predictions_svd_phx, val_preds_cosine_phx, val_preds_als_phx, val_preds_sgd_phx, val_preds_rf_phx)\n",
    "ensemble_testing_phx_df = build_ensemble_dataframe(\n",
    "    test_predictions_svd_phx, test_preds_cosine_phx, test_preds_als_phx, test_preds_sgd_phx, test_preds_rf_phx)"
   ]
  },
  {
   "cell_type": "code",
   "execution_count": null,
   "metadata": {
    "colab": {},
    "colab_type": "code",
    "id": "saunWf3Ur5m4"
   },
   "outputs": [],
   "source": [
    "y_train_phx = np.ravel(\n",
    "    np.array(phoenix_train_matrix[train_nonzero_indices_phx]))\n",
    "y_val_phx = np.ravel(np.array(phoenix_val_matrix[val_nonzero_indices_phx]))\n",
    "y_test_phx = np.ravel(np.array(phoenix_test_matrix[test_nonzero_indices_phx]))"
   ]
  },
  {
   "cell_type": "code",
   "execution_count": null,
   "metadata": {
    "colab": {
     "base_uri": "https://localhost:8080/",
     "height": 34
    },
    "colab_type": "code",
    "id": "SgEHWShAui8R",
    "outputId": "8c87985e-5047-4925-831e-048b5268c1f7"
   },
   "outputs": [],
   "source": [
    "lr_phx = LinearRegression(fit_intercept=True)\n",
    "lr_phx.fit(ensemble_training_phx_df.iloc[:, -3:], y_train_phx)\n",
    "ensemble_val_pred_phx = lr_phx.predict(ensemble_validation_phx_df.iloc[:, -3:])\n",
    "MSE_ensemble_phx = calculate_mse(ensemble_val_pred_phx, y_val_phx)\n",
    "print('MSE of the ensemble of Models for restaurants in Phoenix = ', MSE_ensemble_phx)"
   ]
  },
  {
   "cell_type": "markdown",
   "metadata": {
    "colab_type": "text",
    "id": "6asqin4oupaX"
   },
   "source": [
    "**Ridge Regression with high penalty**"
   ]
  },
  {
   "cell_type": "code",
   "execution_count": null,
   "metadata": {
    "colab": {
     "base_uri": "https://localhost:8080/",
     "height": 34
    },
    "colab_type": "code",
    "id": "o7oApuFdunbF",
    "outputId": "1e6b7d85-9ecc-4e32-8290-66e41232a7bf"
   },
   "outputs": [],
   "source": [
    "from sklearn.linear_model import Ridge\n",
    "lrr_phx = Ridge(alpha=10000)\n",
    "lrr_phx.fit(ensemble_training_phx_df.iloc[:, -3:], y_train_phx)\n",
    "ensemble_val_pred_phx = lrr_phx.predict(\n",
    "    ensemble_validation_phx_df.iloc[:, -3:])\n",
    "MSE_ensemble_phx = calculate_mse(ensemble_val_pred_phx, y_val_phx)\n",
    "print('MSE of the ensemble of Models for restaurants in Phoenix = ', MSE_ensemble_phx)"
   ]
  },
  {
   "cell_type": "markdown",
   "metadata": {
    "colab_type": "text",
    "id": "o4u_wHJlwDIN"
   },
   "source": [
    "# 4. Testing the best model on the test data and checking the test accuracy\n",
    "## For the restaurants in Phoenix and Scottsdalle, the best model was the ensemble model."
   ]
  },
  {
   "cell_type": "code",
   "execution_count": null,
   "metadata": {
    "colab": {
     "base_uri": "https://localhost:8080/",
     "height": 34
    },
    "colab_type": "code",
    "id": "iHfOww7LwBB0",
    "outputId": "938950a6-0567-4b88-c56c-9bc51e04940e"
   },
   "outputs": [],
   "source": [
    "ensemble_test_pred_phx = lrr_phx.predict(ensemble_testing_phx_df.iloc[:, -3:])\n",
    "MSE_test_phx = calculate_mse(ensemble_test_pred_phx, y_test_phx)\n",
    "print('MSE of the ensemble of Models for restaurants in Phoenix (test) = ', MSE_test_phx)"
   ]
  }
 ],
 "metadata": {
  "accelerator": "GPU",
  "colab": {
   "collapsed_sections": [],
   "name": "Yelp Recommendation System.ipynb",
   "provenance": [],
   "version": "0.3.2"
  },
  "kernelspec": {
   "display_name": "Python 3 (ipykernel)",
   "language": "python",
   "name": "python3"
  },
  "language_info": {
   "codemirror_mode": {
    "name": "ipython",
    "version": 3
   },
   "file_extension": ".py",
   "mimetype": "text/x-python",
   "name": "python",
   "nbconvert_exporter": "python",
   "pygments_lexer": "ipython3",
   "version": "3.9.19"
  }
 },
 "nbformat": 4,
 "nbformat_minor": 4
}
